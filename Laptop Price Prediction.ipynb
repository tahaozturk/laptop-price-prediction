{
 "cells": [
  {
   "cell_type": "markdown",
   "id": "7b0c3bc1",
   "metadata": {},
   "source": [
    "# Importing Libraries"
   ]
  },
  {
   "cell_type": "code",
   "execution_count": 1,
   "id": "a8730118",
   "metadata": {},
   "outputs": [],
   "source": [
    "import pandas as pd\n",
    "import numpy as np\n",
    "import matplotlib.pyplot as plt\n",
    "import re"
   ]
  },
  {
   "cell_type": "code",
   "execution_count": 2,
   "id": "8d1970f9",
   "metadata": {},
   "outputs": [],
   "source": [
    "df = pd.read_csv('laptop_price.csv',encoding='latin1')"
   ]
  },
  {
   "cell_type": "markdown",
   "id": "a11b0c23",
   "metadata": {},
   "source": [
    "The file was not read by utf-8. Then 'latin1' was used for encoding."
   ]
  },
  {
   "cell_type": "code",
   "execution_count": 3,
   "id": "d74d087a",
   "metadata": {},
   "outputs": [
    {
     "data": {
      "text/html": [
       "<div>\n",
       "<style scoped>\n",
       "    .dataframe tbody tr th:only-of-type {\n",
       "        vertical-align: middle;\n",
       "    }\n",
       "\n",
       "    .dataframe tbody tr th {\n",
       "        vertical-align: top;\n",
       "    }\n",
       "\n",
       "    .dataframe thead th {\n",
       "        text-align: right;\n",
       "    }\n",
       "</style>\n",
       "<table border=\"1\" class=\"dataframe\">\n",
       "  <thead>\n",
       "    <tr style=\"text-align: right;\">\n",
       "      <th></th>\n",
       "      <th>laptop_ID</th>\n",
       "      <th>Company</th>\n",
       "      <th>Product</th>\n",
       "      <th>TypeName</th>\n",
       "      <th>Inches</th>\n",
       "      <th>ScreenResolution</th>\n",
       "      <th>Cpu</th>\n",
       "      <th>Ram</th>\n",
       "      <th>Memory</th>\n",
       "      <th>Gpu</th>\n",
       "      <th>OpSys</th>\n",
       "      <th>Weight</th>\n",
       "      <th>Price_euros</th>\n",
       "    </tr>\n",
       "  </thead>\n",
       "  <tbody>\n",
       "    <tr>\n",
       "      <th>0</th>\n",
       "      <td>1</td>\n",
       "      <td>Apple</td>\n",
       "      <td>MacBook Pro</td>\n",
       "      <td>Ultrabook</td>\n",
       "      <td>13.3</td>\n",
       "      <td>IPS Panel Retina Display 2560x1600</td>\n",
       "      <td>Intel Core i5 2.3GHz</td>\n",
       "      <td>8GB</td>\n",
       "      <td>128GB SSD</td>\n",
       "      <td>Intel Iris Plus Graphics 640</td>\n",
       "      <td>macOS</td>\n",
       "      <td>1.37kg</td>\n",
       "      <td>1339.69</td>\n",
       "    </tr>\n",
       "    <tr>\n",
       "      <th>1</th>\n",
       "      <td>2</td>\n",
       "      <td>Apple</td>\n",
       "      <td>Macbook Air</td>\n",
       "      <td>Ultrabook</td>\n",
       "      <td>13.3</td>\n",
       "      <td>1440x900</td>\n",
       "      <td>Intel Core i5 1.8GHz</td>\n",
       "      <td>8GB</td>\n",
       "      <td>128GB Flash Storage</td>\n",
       "      <td>Intel HD Graphics 6000</td>\n",
       "      <td>macOS</td>\n",
       "      <td>1.34kg</td>\n",
       "      <td>898.94</td>\n",
       "    </tr>\n",
       "    <tr>\n",
       "      <th>2</th>\n",
       "      <td>3</td>\n",
       "      <td>HP</td>\n",
       "      <td>250 G6</td>\n",
       "      <td>Notebook</td>\n",
       "      <td>15.6</td>\n",
       "      <td>Full HD 1920x1080</td>\n",
       "      <td>Intel Core i5 7200U 2.5GHz</td>\n",
       "      <td>8GB</td>\n",
       "      <td>256GB SSD</td>\n",
       "      <td>Intel HD Graphics 620</td>\n",
       "      <td>No OS</td>\n",
       "      <td>1.86kg</td>\n",
       "      <td>575.00</td>\n",
       "    </tr>\n",
       "    <tr>\n",
       "      <th>3</th>\n",
       "      <td>4</td>\n",
       "      <td>Apple</td>\n",
       "      <td>MacBook Pro</td>\n",
       "      <td>Ultrabook</td>\n",
       "      <td>15.4</td>\n",
       "      <td>IPS Panel Retina Display 2880x1800</td>\n",
       "      <td>Intel Core i7 2.7GHz</td>\n",
       "      <td>16GB</td>\n",
       "      <td>512GB SSD</td>\n",
       "      <td>AMD Radeon Pro 455</td>\n",
       "      <td>macOS</td>\n",
       "      <td>1.83kg</td>\n",
       "      <td>2537.45</td>\n",
       "    </tr>\n",
       "    <tr>\n",
       "      <th>4</th>\n",
       "      <td>5</td>\n",
       "      <td>Apple</td>\n",
       "      <td>MacBook Pro</td>\n",
       "      <td>Ultrabook</td>\n",
       "      <td>13.3</td>\n",
       "      <td>IPS Panel Retina Display 2560x1600</td>\n",
       "      <td>Intel Core i5 3.1GHz</td>\n",
       "      <td>8GB</td>\n",
       "      <td>256GB SSD</td>\n",
       "      <td>Intel Iris Plus Graphics 650</td>\n",
       "      <td>macOS</td>\n",
       "      <td>1.37kg</td>\n",
       "      <td>1803.60</td>\n",
       "    </tr>\n",
       "  </tbody>\n",
       "</table>\n",
       "</div>"
      ],
      "text/plain": [
       "   laptop_ID Company      Product   TypeName  Inches  \\\n",
       "0          1   Apple  MacBook Pro  Ultrabook    13.3   \n",
       "1          2   Apple  Macbook Air  Ultrabook    13.3   \n",
       "2          3      HP       250 G6   Notebook    15.6   \n",
       "3          4   Apple  MacBook Pro  Ultrabook    15.4   \n",
       "4          5   Apple  MacBook Pro  Ultrabook    13.3   \n",
       "\n",
       "                     ScreenResolution                         Cpu   Ram  \\\n",
       "0  IPS Panel Retina Display 2560x1600        Intel Core i5 2.3GHz   8GB   \n",
       "1                            1440x900        Intel Core i5 1.8GHz   8GB   \n",
       "2                   Full HD 1920x1080  Intel Core i5 7200U 2.5GHz   8GB   \n",
       "3  IPS Panel Retina Display 2880x1800        Intel Core i7 2.7GHz  16GB   \n",
       "4  IPS Panel Retina Display 2560x1600        Intel Core i5 3.1GHz   8GB   \n",
       "\n",
       "                Memory                           Gpu  OpSys  Weight  \\\n",
       "0            128GB SSD  Intel Iris Plus Graphics 640  macOS  1.37kg   \n",
       "1  128GB Flash Storage        Intel HD Graphics 6000  macOS  1.34kg   \n",
       "2            256GB SSD         Intel HD Graphics 620  No OS  1.86kg   \n",
       "3            512GB SSD            AMD Radeon Pro 455  macOS  1.83kg   \n",
       "4            256GB SSD  Intel Iris Plus Graphics 650  macOS  1.37kg   \n",
       "\n",
       "   Price_euros  \n",
       "0      1339.69  \n",
       "1       898.94  \n",
       "2       575.00  \n",
       "3      2537.45  \n",
       "4      1803.60  "
      ]
     },
     "execution_count": 3,
     "metadata": {},
     "output_type": "execute_result"
    }
   ],
   "source": [
    "df.head()"
   ]
  },
  {
   "cell_type": "markdown",
   "id": "df4f41c4",
   "metadata": {},
   "source": [
    "The dataset consists of several features related with computers. Let's explore the dataset!"
   ]
  },
  {
   "cell_type": "code",
   "execution_count": 4,
   "id": "44e32866",
   "metadata": {},
   "outputs": [
    {
     "data": {
      "text/plain": [
       "laptop_ID           1303\n",
       "Company             1303\n",
       "Product             1303\n",
       "TypeName            1303\n",
       "Inches              1303\n",
       "ScreenResolution    1303\n",
       "Cpu                 1303\n",
       "Ram                 1303\n",
       "Memory              1303\n",
       "Gpu                 1303\n",
       "OpSys               1303\n",
       "Weight              1303\n",
       "Price_euros         1303\n",
       "dtype: int64"
      ]
     },
     "execution_count": 4,
     "metadata": {},
     "output_type": "execute_result"
    }
   ],
   "source": [
    "df.count()"
   ]
  },
  {
   "cell_type": "markdown",
   "id": "15503b6b",
   "metadata": {},
   "source": [
    "There is no missing value, great! Thus, there is no need to fill or drop data."
   ]
  },
  {
   "cell_type": "code",
   "execution_count": 5,
   "id": "98489c21",
   "metadata": {},
   "outputs": [
    {
     "data": {
      "text/plain": [
       "laptop_ID           1303\n",
       "Company               19\n",
       "Product              618\n",
       "TypeName               6\n",
       "Inches                18\n",
       "ScreenResolution      40\n",
       "Cpu                  118\n",
       "Ram                    9\n",
       "Memory                39\n",
       "Gpu                  110\n",
       "OpSys                  9\n",
       "Weight               179\n",
       "Price_euros          791\n",
       "dtype: int64"
      ]
     },
     "execution_count": 5,
     "metadata": {},
     "output_type": "execute_result"
    }
   ],
   "source": [
    "df.nunique()"
   ]
  },
  {
   "cell_type": "markdown",
   "id": "f788c2a7",
   "metadata": {},
   "source": [
    "There is no problem to use continues features because they can be used directly as inputs after standardization. However we need to work on catagorical features carefuly. It seems very hard to work on product name because there are 618 unique product name which is too many for our dataset. Let's drop it."
   ]
  },
  {
   "cell_type": "code",
   "execution_count": 6,
   "id": "ed0a91f0",
   "metadata": {},
   "outputs": [],
   "source": [
    "df.drop('Product',axis =1,inplace=True)"
   ]
  },
  {
   "cell_type": "markdown",
   "id": "44ce4525",
   "metadata": {},
   "source": [
    "Also, we cannot use Laptop ID as feature because every ID is distinct. From now on, we will use them as index."
   ]
  },
  {
   "cell_type": "code",
   "execution_count": 7,
   "id": "10005efe",
   "metadata": {},
   "outputs": [],
   "source": [
    "df.set_index('laptop_ID',inplace = True)"
   ]
  },
  {
   "cell_type": "code",
   "execution_count": 8,
   "id": "1260268c",
   "metadata": {},
   "outputs": [
    {
     "data": {
      "text/html": [
       "<div>\n",
       "<style scoped>\n",
       "    .dataframe tbody tr th:only-of-type {\n",
       "        vertical-align: middle;\n",
       "    }\n",
       "\n",
       "    .dataframe tbody tr th {\n",
       "        vertical-align: top;\n",
       "    }\n",
       "\n",
       "    .dataframe thead th {\n",
       "        text-align: right;\n",
       "    }\n",
       "</style>\n",
       "<table border=\"1\" class=\"dataframe\">\n",
       "  <thead>\n",
       "    <tr style=\"text-align: right;\">\n",
       "      <th></th>\n",
       "      <th>Company</th>\n",
       "      <th>TypeName</th>\n",
       "      <th>Inches</th>\n",
       "      <th>ScreenResolution</th>\n",
       "      <th>Cpu</th>\n",
       "      <th>Ram</th>\n",
       "      <th>Memory</th>\n",
       "      <th>Gpu</th>\n",
       "      <th>OpSys</th>\n",
       "      <th>Weight</th>\n",
       "      <th>Price_euros</th>\n",
       "    </tr>\n",
       "    <tr>\n",
       "      <th>laptop_ID</th>\n",
       "      <th></th>\n",
       "      <th></th>\n",
       "      <th></th>\n",
       "      <th></th>\n",
       "      <th></th>\n",
       "      <th></th>\n",
       "      <th></th>\n",
       "      <th></th>\n",
       "      <th></th>\n",
       "      <th></th>\n",
       "      <th></th>\n",
       "    </tr>\n",
       "  </thead>\n",
       "  <tbody>\n",
       "    <tr>\n",
       "      <th>1</th>\n",
       "      <td>Apple</td>\n",
       "      <td>Ultrabook</td>\n",
       "      <td>13.3</td>\n",
       "      <td>IPS Panel Retina Display 2560x1600</td>\n",
       "      <td>Intel Core i5 2.3GHz</td>\n",
       "      <td>8GB</td>\n",
       "      <td>128GB SSD</td>\n",
       "      <td>Intel Iris Plus Graphics 640</td>\n",
       "      <td>macOS</td>\n",
       "      <td>1.37kg</td>\n",
       "      <td>1339.69</td>\n",
       "    </tr>\n",
       "    <tr>\n",
       "      <th>2</th>\n",
       "      <td>Apple</td>\n",
       "      <td>Ultrabook</td>\n",
       "      <td>13.3</td>\n",
       "      <td>1440x900</td>\n",
       "      <td>Intel Core i5 1.8GHz</td>\n",
       "      <td>8GB</td>\n",
       "      <td>128GB Flash Storage</td>\n",
       "      <td>Intel HD Graphics 6000</td>\n",
       "      <td>macOS</td>\n",
       "      <td>1.34kg</td>\n",
       "      <td>898.94</td>\n",
       "    </tr>\n",
       "    <tr>\n",
       "      <th>3</th>\n",
       "      <td>HP</td>\n",
       "      <td>Notebook</td>\n",
       "      <td>15.6</td>\n",
       "      <td>Full HD 1920x1080</td>\n",
       "      <td>Intel Core i5 7200U 2.5GHz</td>\n",
       "      <td>8GB</td>\n",
       "      <td>256GB SSD</td>\n",
       "      <td>Intel HD Graphics 620</td>\n",
       "      <td>No OS</td>\n",
       "      <td>1.86kg</td>\n",
       "      <td>575.00</td>\n",
       "    </tr>\n",
       "    <tr>\n",
       "      <th>4</th>\n",
       "      <td>Apple</td>\n",
       "      <td>Ultrabook</td>\n",
       "      <td>15.4</td>\n",
       "      <td>IPS Panel Retina Display 2880x1800</td>\n",
       "      <td>Intel Core i7 2.7GHz</td>\n",
       "      <td>16GB</td>\n",
       "      <td>512GB SSD</td>\n",
       "      <td>AMD Radeon Pro 455</td>\n",
       "      <td>macOS</td>\n",
       "      <td>1.83kg</td>\n",
       "      <td>2537.45</td>\n",
       "    </tr>\n",
       "    <tr>\n",
       "      <th>5</th>\n",
       "      <td>Apple</td>\n",
       "      <td>Ultrabook</td>\n",
       "      <td>13.3</td>\n",
       "      <td>IPS Panel Retina Display 2560x1600</td>\n",
       "      <td>Intel Core i5 3.1GHz</td>\n",
       "      <td>8GB</td>\n",
       "      <td>256GB SSD</td>\n",
       "      <td>Intel Iris Plus Graphics 650</td>\n",
       "      <td>macOS</td>\n",
       "      <td>1.37kg</td>\n",
       "      <td>1803.60</td>\n",
       "    </tr>\n",
       "  </tbody>\n",
       "</table>\n",
       "</div>"
      ],
      "text/plain": [
       "          Company   TypeName  Inches                    ScreenResolution  \\\n",
       "laptop_ID                                                                  \n",
       "1           Apple  Ultrabook    13.3  IPS Panel Retina Display 2560x1600   \n",
       "2           Apple  Ultrabook    13.3                            1440x900   \n",
       "3              HP   Notebook    15.6                   Full HD 1920x1080   \n",
       "4           Apple  Ultrabook    15.4  IPS Panel Retina Display 2880x1800   \n",
       "5           Apple  Ultrabook    13.3  IPS Panel Retina Display 2560x1600   \n",
       "\n",
       "                                  Cpu   Ram               Memory  \\\n",
       "laptop_ID                                                          \n",
       "1                Intel Core i5 2.3GHz   8GB            128GB SSD   \n",
       "2                Intel Core i5 1.8GHz   8GB  128GB Flash Storage   \n",
       "3          Intel Core i5 7200U 2.5GHz   8GB            256GB SSD   \n",
       "4                Intel Core i7 2.7GHz  16GB            512GB SSD   \n",
       "5                Intel Core i5 3.1GHz   8GB            256GB SSD   \n",
       "\n",
       "                                    Gpu  OpSys  Weight  Price_euros  \n",
       "laptop_ID                                                            \n",
       "1          Intel Iris Plus Graphics 640  macOS  1.37kg      1339.69  \n",
       "2                Intel HD Graphics 6000  macOS  1.34kg       898.94  \n",
       "3                 Intel HD Graphics 620  No OS  1.86kg       575.00  \n",
       "4                    AMD Radeon Pro 455  macOS  1.83kg      2537.45  \n",
       "5          Intel Iris Plus Graphics 650  macOS  1.37kg      1803.60  "
      ]
     },
     "execution_count": 8,
     "metadata": {},
     "output_type": "execute_result"
    }
   ],
   "source": [
    "df.head()"
   ]
  },
  {
   "cell_type": "markdown",
   "id": "c7c3a0fb",
   "metadata": {},
   "source": [
    "Company name, type name and OpSys can be used as dummy variable but we should turn Ram, Weight, Memory and ScreenResolution to numerical value because they carry important numerical informations for our model while they are currently seen as catagories. So, we will preprocess them one by one. How about starting with the easiest one: 'weight'."
   ]
  },
  {
   "cell_type": "code",
   "execution_count": 9,
   "id": "3894f14e",
   "metadata": {},
   "outputs": [
    {
     "data": {
      "text/plain": [
       "'1.37'"
      ]
     },
     "execution_count": 9,
     "metadata": {},
     "output_type": "execute_result"
    }
   ],
   "source": [
    "weight = df[\"Weight\"].iloc[0]\n",
    "weight[:-2]"
   ]
  },
  {
   "cell_type": "markdown",
   "id": "9f2e8453",
   "metadata": {},
   "source": [
    "As you see, weight info can be captured easily by simple slicing operation. However, its type is still string. Therefore, the result should be type casted to float."
   ]
  },
  {
   "cell_type": "code",
   "execution_count": 10,
   "id": "69c9fd1b",
   "metadata": {},
   "outputs": [
    {
     "data": {
      "text/plain": [
       "1.37"
      ]
     },
     "execution_count": 10,
     "metadata": {},
     "output_type": "execute_result"
    }
   ],
   "source": [
    "float(weight[:-2])"
   ]
  },
  {
   "cell_type": "markdown",
   "id": "d7490b3e",
   "metadata": {},
   "source": [
    "We managed to convert a single weight info to continuous value. Now, it is time to turn this operation to function in order to apply it to whole column of the dataframe."
   ]
  },
  {
   "cell_type": "code",
   "execution_count": 11,
   "id": "2d912b8d",
   "metadata": {},
   "outputs": [],
   "source": [
    "def weight_extraction(name):\n",
    "    return float(name[:-2])"
   ]
  },
  {
   "cell_type": "code",
   "execution_count": 12,
   "id": "4be421d1",
   "metadata": {},
   "outputs": [],
   "source": [
    "df[\"Weight\"] = df[\"Weight\"].apply(weight_extraction)"
   ]
  },
  {
   "cell_type": "code",
   "execution_count": 13,
   "id": "5766cc69",
   "metadata": {
    "scrolled": true
   },
   "outputs": [
    {
     "data": {
      "text/html": [
       "<div>\n",
       "<style scoped>\n",
       "    .dataframe tbody tr th:only-of-type {\n",
       "        vertical-align: middle;\n",
       "    }\n",
       "\n",
       "    .dataframe tbody tr th {\n",
       "        vertical-align: top;\n",
       "    }\n",
       "\n",
       "    .dataframe thead th {\n",
       "        text-align: right;\n",
       "    }\n",
       "</style>\n",
       "<table border=\"1\" class=\"dataframe\">\n",
       "  <thead>\n",
       "    <tr style=\"text-align: right;\">\n",
       "      <th></th>\n",
       "      <th>Company</th>\n",
       "      <th>TypeName</th>\n",
       "      <th>Inches</th>\n",
       "      <th>ScreenResolution</th>\n",
       "      <th>Cpu</th>\n",
       "      <th>Ram</th>\n",
       "      <th>Memory</th>\n",
       "      <th>Gpu</th>\n",
       "      <th>OpSys</th>\n",
       "      <th>Weight</th>\n",
       "      <th>Price_euros</th>\n",
       "    </tr>\n",
       "    <tr>\n",
       "      <th>laptop_ID</th>\n",
       "      <th></th>\n",
       "      <th></th>\n",
       "      <th></th>\n",
       "      <th></th>\n",
       "      <th></th>\n",
       "      <th></th>\n",
       "      <th></th>\n",
       "      <th></th>\n",
       "      <th></th>\n",
       "      <th></th>\n",
       "      <th></th>\n",
       "    </tr>\n",
       "  </thead>\n",
       "  <tbody>\n",
       "    <tr>\n",
       "      <th>1</th>\n",
       "      <td>Apple</td>\n",
       "      <td>Ultrabook</td>\n",
       "      <td>13.3</td>\n",
       "      <td>IPS Panel Retina Display 2560x1600</td>\n",
       "      <td>Intel Core i5 2.3GHz</td>\n",
       "      <td>8GB</td>\n",
       "      <td>128GB SSD</td>\n",
       "      <td>Intel Iris Plus Graphics 640</td>\n",
       "      <td>macOS</td>\n",
       "      <td>1.37</td>\n",
       "      <td>1339.69</td>\n",
       "    </tr>\n",
       "    <tr>\n",
       "      <th>2</th>\n",
       "      <td>Apple</td>\n",
       "      <td>Ultrabook</td>\n",
       "      <td>13.3</td>\n",
       "      <td>1440x900</td>\n",
       "      <td>Intel Core i5 1.8GHz</td>\n",
       "      <td>8GB</td>\n",
       "      <td>128GB Flash Storage</td>\n",
       "      <td>Intel HD Graphics 6000</td>\n",
       "      <td>macOS</td>\n",
       "      <td>1.34</td>\n",
       "      <td>898.94</td>\n",
       "    </tr>\n",
       "    <tr>\n",
       "      <th>3</th>\n",
       "      <td>HP</td>\n",
       "      <td>Notebook</td>\n",
       "      <td>15.6</td>\n",
       "      <td>Full HD 1920x1080</td>\n",
       "      <td>Intel Core i5 7200U 2.5GHz</td>\n",
       "      <td>8GB</td>\n",
       "      <td>256GB SSD</td>\n",
       "      <td>Intel HD Graphics 620</td>\n",
       "      <td>No OS</td>\n",
       "      <td>1.86</td>\n",
       "      <td>575.00</td>\n",
       "    </tr>\n",
       "    <tr>\n",
       "      <th>4</th>\n",
       "      <td>Apple</td>\n",
       "      <td>Ultrabook</td>\n",
       "      <td>15.4</td>\n",
       "      <td>IPS Panel Retina Display 2880x1800</td>\n",
       "      <td>Intel Core i7 2.7GHz</td>\n",
       "      <td>16GB</td>\n",
       "      <td>512GB SSD</td>\n",
       "      <td>AMD Radeon Pro 455</td>\n",
       "      <td>macOS</td>\n",
       "      <td>1.83</td>\n",
       "      <td>2537.45</td>\n",
       "    </tr>\n",
       "    <tr>\n",
       "      <th>5</th>\n",
       "      <td>Apple</td>\n",
       "      <td>Ultrabook</td>\n",
       "      <td>13.3</td>\n",
       "      <td>IPS Panel Retina Display 2560x1600</td>\n",
       "      <td>Intel Core i5 3.1GHz</td>\n",
       "      <td>8GB</td>\n",
       "      <td>256GB SSD</td>\n",
       "      <td>Intel Iris Plus Graphics 650</td>\n",
       "      <td>macOS</td>\n",
       "      <td>1.37</td>\n",
       "      <td>1803.60</td>\n",
       "    </tr>\n",
       "  </tbody>\n",
       "</table>\n",
       "</div>"
      ],
      "text/plain": [
       "          Company   TypeName  Inches                    ScreenResolution  \\\n",
       "laptop_ID                                                                  \n",
       "1           Apple  Ultrabook    13.3  IPS Panel Retina Display 2560x1600   \n",
       "2           Apple  Ultrabook    13.3                            1440x900   \n",
       "3              HP   Notebook    15.6                   Full HD 1920x1080   \n",
       "4           Apple  Ultrabook    15.4  IPS Panel Retina Display 2880x1800   \n",
       "5           Apple  Ultrabook    13.3  IPS Panel Retina Display 2560x1600   \n",
       "\n",
       "                                  Cpu   Ram               Memory  \\\n",
       "laptop_ID                                                          \n",
       "1                Intel Core i5 2.3GHz   8GB            128GB SSD   \n",
       "2                Intel Core i5 1.8GHz   8GB  128GB Flash Storage   \n",
       "3          Intel Core i5 7200U 2.5GHz   8GB            256GB SSD   \n",
       "4                Intel Core i7 2.7GHz  16GB            512GB SSD   \n",
       "5                Intel Core i5 3.1GHz   8GB            256GB SSD   \n",
       "\n",
       "                                    Gpu  OpSys  Weight  Price_euros  \n",
       "laptop_ID                                                            \n",
       "1          Intel Iris Plus Graphics 640  macOS    1.37      1339.69  \n",
       "2                Intel HD Graphics 6000  macOS    1.34       898.94  \n",
       "3                 Intel HD Graphics 620  No OS    1.86       575.00  \n",
       "4                    AMD Radeon Pro 455  macOS    1.83      2537.45  \n",
       "5          Intel Iris Plus Graphics 650  macOS    1.37      1803.60  "
      ]
     },
     "execution_count": 13,
     "metadata": {},
     "output_type": "execute_result"
    }
   ],
   "source": [
    "df.head()"
   ]
  },
  {
   "cell_type": "markdown",
   "id": "ddd27781",
   "metadata": {},
   "source": [
    "Yeeyyy it works! We do not need 'kg' unit anymore because all the data is in same unit."
   ]
  },
  {
   "cell_type": "markdown",
   "id": "a9f12066",
   "metadata": {},
   "source": [
    "Now it is time to move on 'Ram'. It is similar to weight column. So, let's directly dive into the function."
   ]
  },
  {
   "cell_type": "code",
   "execution_count": 14,
   "id": "1de7b18a",
   "metadata": {},
   "outputs": [],
   "source": [
    "def ram_extraction(name):\n",
    "    return int(name[:-2])"
   ]
  },
  {
   "cell_type": "code",
   "execution_count": 15,
   "id": "d647615e",
   "metadata": {},
   "outputs": [],
   "source": [
    "df[\"Ram\"] = df[\"Ram\"].apply(ram_extraction)"
   ]
  },
  {
   "cell_type": "code",
   "execution_count": 16,
   "id": "e1f6d6c3",
   "metadata": {
    "scrolled": true
   },
   "outputs": [
    {
     "data": {
      "text/html": [
       "<div>\n",
       "<style scoped>\n",
       "    .dataframe tbody tr th:only-of-type {\n",
       "        vertical-align: middle;\n",
       "    }\n",
       "\n",
       "    .dataframe tbody tr th {\n",
       "        vertical-align: top;\n",
       "    }\n",
       "\n",
       "    .dataframe thead th {\n",
       "        text-align: right;\n",
       "    }\n",
       "</style>\n",
       "<table border=\"1\" class=\"dataframe\">\n",
       "  <thead>\n",
       "    <tr style=\"text-align: right;\">\n",
       "      <th></th>\n",
       "      <th>Company</th>\n",
       "      <th>TypeName</th>\n",
       "      <th>Inches</th>\n",
       "      <th>ScreenResolution</th>\n",
       "      <th>Cpu</th>\n",
       "      <th>Ram</th>\n",
       "      <th>Memory</th>\n",
       "      <th>Gpu</th>\n",
       "      <th>OpSys</th>\n",
       "      <th>Weight</th>\n",
       "      <th>Price_euros</th>\n",
       "    </tr>\n",
       "    <tr>\n",
       "      <th>laptop_ID</th>\n",
       "      <th></th>\n",
       "      <th></th>\n",
       "      <th></th>\n",
       "      <th></th>\n",
       "      <th></th>\n",
       "      <th></th>\n",
       "      <th></th>\n",
       "      <th></th>\n",
       "      <th></th>\n",
       "      <th></th>\n",
       "      <th></th>\n",
       "    </tr>\n",
       "  </thead>\n",
       "  <tbody>\n",
       "    <tr>\n",
       "      <th>1</th>\n",
       "      <td>Apple</td>\n",
       "      <td>Ultrabook</td>\n",
       "      <td>13.3</td>\n",
       "      <td>IPS Panel Retina Display 2560x1600</td>\n",
       "      <td>Intel Core i5 2.3GHz</td>\n",
       "      <td>8</td>\n",
       "      <td>128GB SSD</td>\n",
       "      <td>Intel Iris Plus Graphics 640</td>\n",
       "      <td>macOS</td>\n",
       "      <td>1.37</td>\n",
       "      <td>1339.69</td>\n",
       "    </tr>\n",
       "    <tr>\n",
       "      <th>2</th>\n",
       "      <td>Apple</td>\n",
       "      <td>Ultrabook</td>\n",
       "      <td>13.3</td>\n",
       "      <td>1440x900</td>\n",
       "      <td>Intel Core i5 1.8GHz</td>\n",
       "      <td>8</td>\n",
       "      <td>128GB Flash Storage</td>\n",
       "      <td>Intel HD Graphics 6000</td>\n",
       "      <td>macOS</td>\n",
       "      <td>1.34</td>\n",
       "      <td>898.94</td>\n",
       "    </tr>\n",
       "    <tr>\n",
       "      <th>3</th>\n",
       "      <td>HP</td>\n",
       "      <td>Notebook</td>\n",
       "      <td>15.6</td>\n",
       "      <td>Full HD 1920x1080</td>\n",
       "      <td>Intel Core i5 7200U 2.5GHz</td>\n",
       "      <td>8</td>\n",
       "      <td>256GB SSD</td>\n",
       "      <td>Intel HD Graphics 620</td>\n",
       "      <td>No OS</td>\n",
       "      <td>1.86</td>\n",
       "      <td>575.00</td>\n",
       "    </tr>\n",
       "    <tr>\n",
       "      <th>4</th>\n",
       "      <td>Apple</td>\n",
       "      <td>Ultrabook</td>\n",
       "      <td>15.4</td>\n",
       "      <td>IPS Panel Retina Display 2880x1800</td>\n",
       "      <td>Intel Core i7 2.7GHz</td>\n",
       "      <td>16</td>\n",
       "      <td>512GB SSD</td>\n",
       "      <td>AMD Radeon Pro 455</td>\n",
       "      <td>macOS</td>\n",
       "      <td>1.83</td>\n",
       "      <td>2537.45</td>\n",
       "    </tr>\n",
       "    <tr>\n",
       "      <th>5</th>\n",
       "      <td>Apple</td>\n",
       "      <td>Ultrabook</td>\n",
       "      <td>13.3</td>\n",
       "      <td>IPS Panel Retina Display 2560x1600</td>\n",
       "      <td>Intel Core i5 3.1GHz</td>\n",
       "      <td>8</td>\n",
       "      <td>256GB SSD</td>\n",
       "      <td>Intel Iris Plus Graphics 650</td>\n",
       "      <td>macOS</td>\n",
       "      <td>1.37</td>\n",
       "      <td>1803.60</td>\n",
       "    </tr>\n",
       "  </tbody>\n",
       "</table>\n",
       "</div>"
      ],
      "text/plain": [
       "          Company   TypeName  Inches                    ScreenResolution  \\\n",
       "laptop_ID                                                                  \n",
       "1           Apple  Ultrabook    13.3  IPS Panel Retina Display 2560x1600   \n",
       "2           Apple  Ultrabook    13.3                            1440x900   \n",
       "3              HP   Notebook    15.6                   Full HD 1920x1080   \n",
       "4           Apple  Ultrabook    15.4  IPS Panel Retina Display 2880x1800   \n",
       "5           Apple  Ultrabook    13.3  IPS Panel Retina Display 2560x1600   \n",
       "\n",
       "                                  Cpu  Ram               Memory  \\\n",
       "laptop_ID                                                         \n",
       "1                Intel Core i5 2.3GHz    8            128GB SSD   \n",
       "2                Intel Core i5 1.8GHz    8  128GB Flash Storage   \n",
       "3          Intel Core i5 7200U 2.5GHz    8            256GB SSD   \n",
       "4                Intel Core i7 2.7GHz   16            512GB SSD   \n",
       "5                Intel Core i5 3.1GHz    8            256GB SSD   \n",
       "\n",
       "                                    Gpu  OpSys  Weight  Price_euros  \n",
       "laptop_ID                                                            \n",
       "1          Intel Iris Plus Graphics 640  macOS    1.37      1339.69  \n",
       "2                Intel HD Graphics 6000  macOS    1.34       898.94  \n",
       "3                 Intel HD Graphics 620  No OS    1.86       575.00  \n",
       "4                    AMD Radeon Pro 455  macOS    1.83      2537.45  \n",
       "5          Intel Iris Plus Graphics 650  macOS    1.37      1803.60  "
      ]
     },
     "execution_count": 16,
     "metadata": {},
     "output_type": "execute_result"
    }
   ],
   "source": [
    "df.head()"
   ]
  },
  {
   "cell_type": "markdown",
   "id": "3333fa75",
   "metadata": {},
   "source": [
    "We got rid of GB in Ram also and we use the Ram category directly as continuous value."
   ]
  },
  {
   "cell_type": "code",
   "execution_count": 17,
   "id": "67eca966",
   "metadata": {},
   "outputs": [
    {
     "data": {
      "text/plain": [
       "Intel Core i5 7200U 2.5GHz       190\n",
       "Intel Core i7 7700HQ 2.8GHz      146\n",
       "Intel Core i7 7500U 2.7GHz       134\n",
       "Intel Core i7 8550U 1.8GHz        73\n",
       "Intel Core i5 8250U 1.6GHz        72\n",
       "                                ... \n",
       "Intel Core M M3-6Y30 0.9GHz        1\n",
       "AMD A9-Series 9420 2.9GHz          1\n",
       "Intel Core i3 6006U 2.2GHz         1\n",
       "AMD A6-Series 7310 2GHz            1\n",
       "Intel Xeon E3-1535M v6 3.1GHz      1\n",
       "Name: Cpu, Length: 118, dtype: int64"
      ]
     },
     "execution_count": 17,
     "metadata": {},
     "output_type": "execute_result"
    }
   ],
   "source": [
    "df['Cpu'].value_counts()"
   ]
  },
  {
   "cell_type": "markdown",
   "id": "caa7ec8d",
   "metadata": {},
   "source": [
    "There are 118 type of processor here. It is very hard to get sensible ML model with all these processor models. So, we will only get the clock speed from 'Cpu' feature. It is seen that in every row, the clock speed is located at the end in the feature. Hence, we can extract it by splitting the data to its parts and we can store the last part."
   ]
  },
  {
   "cell_type": "code",
   "execution_count": 18,
   "id": "1015031b",
   "metadata": {},
   "outputs": [
    {
     "data": {
      "text/plain": [
       "'2.3GHz'"
      ]
     },
     "execution_count": 18,
     "metadata": {},
     "output_type": "execute_result"
    }
   ],
   "source": [
    "clock = df['Cpu'].iloc[15]\n",
    "speed = clock.split()[-1]\n",
    "speed"
   ]
  },
  {
   "cell_type": "markdown",
   "id": "451fde17",
   "metadata": {},
   "source": [
    "Great but we do not want any string in the result. So, our function should only get the numbers. By running a for loop, we can store the clock speed value if the iteration stops before a 'G' of 'GHz' appear."
   ]
  },
  {
   "cell_type": "code",
   "execution_count": 19,
   "id": "5620aeb3",
   "metadata": {},
   "outputs": [
    {
     "name": "stdout",
     "output_type": "stream",
     "text": [
      "2.3\n"
     ]
    }
   ],
   "source": [
    "value = ''\n",
    "for character in speed:\n",
    "    if character == 'G':\n",
    "        break\n",
    "    else:\n",
    "        value+=character\n",
    "print(float(value))"
   ]
  },
  {
   "cell_type": "markdown",
   "id": "889702a5",
   "metadata": {},
   "source": [
    "It works great! Let's turn this into function again."
   ]
  },
  {
   "cell_type": "code",
   "execution_count": 20,
   "id": "e7f487ca",
   "metadata": {},
   "outputs": [],
   "source": [
    "def cpu_clockspeed(name):\n",
    "    speed = name.split()[-1]\n",
    "    value = ''\n",
    "    for character in speed:\n",
    "        if character == 'G':\n",
    "            break\n",
    "        else:\n",
    "            value+=character\n",
    "            \n",
    "    return float(value)"
   ]
  },
  {
   "cell_type": "code",
   "execution_count": 21,
   "id": "3a53fbb4",
   "metadata": {},
   "outputs": [],
   "source": [
    "df['ClockSpeed'] = df['Cpu'].apply(cpu_clockspeed)"
   ]
  },
  {
   "cell_type": "code",
   "execution_count": 22,
   "id": "c4eb066d",
   "metadata": {},
   "outputs": [
    {
     "data": {
      "text/plain": [
       "2.50    293\n",
       "2.70    166\n",
       "2.80    165\n",
       "1.60    134\n",
       "2.30     86\n",
       "2.00     86\n",
       "1.80     78\n",
       "2.60     76\n",
       "1.10     53\n",
       "2.40     52\n",
       "2.90     21\n",
       "3.00     19\n",
       "1.20     15\n",
       "1.44     12\n",
       "2.20     11\n",
       "1.50     10\n",
       "1.30      6\n",
       "3.60      5\n",
       "0.90      4\n",
       "3.10      3\n",
       "2.10      3\n",
       "1.90      2\n",
       "3.20      1\n",
       "1.00      1\n",
       "1.92      1\n",
       "Name: ClockSpeed, dtype: int64"
      ]
     },
     "execution_count": 22,
     "metadata": {},
     "output_type": "execute_result"
    }
   ],
   "source": [
    "df['ClockSpeed'].value_counts()"
   ]
  },
  {
   "cell_type": "code",
   "execution_count": 23,
   "id": "cf24b960",
   "metadata": {},
   "outputs": [
    {
     "data": {
      "text/html": [
       "<div>\n",
       "<style scoped>\n",
       "    .dataframe tbody tr th:only-of-type {\n",
       "        vertical-align: middle;\n",
       "    }\n",
       "\n",
       "    .dataframe tbody tr th {\n",
       "        vertical-align: top;\n",
       "    }\n",
       "\n",
       "    .dataframe thead th {\n",
       "        text-align: right;\n",
       "    }\n",
       "</style>\n",
       "<table border=\"1\" class=\"dataframe\">\n",
       "  <thead>\n",
       "    <tr style=\"text-align: right;\">\n",
       "      <th></th>\n",
       "      <th>Company</th>\n",
       "      <th>TypeName</th>\n",
       "      <th>Inches</th>\n",
       "      <th>ScreenResolution</th>\n",
       "      <th>Cpu</th>\n",
       "      <th>Ram</th>\n",
       "      <th>Memory</th>\n",
       "      <th>Gpu</th>\n",
       "      <th>OpSys</th>\n",
       "      <th>Weight</th>\n",
       "      <th>Price_euros</th>\n",
       "      <th>ClockSpeed</th>\n",
       "    </tr>\n",
       "    <tr>\n",
       "      <th>laptop_ID</th>\n",
       "      <th></th>\n",
       "      <th></th>\n",
       "      <th></th>\n",
       "      <th></th>\n",
       "      <th></th>\n",
       "      <th></th>\n",
       "      <th></th>\n",
       "      <th></th>\n",
       "      <th></th>\n",
       "      <th></th>\n",
       "      <th></th>\n",
       "      <th></th>\n",
       "    </tr>\n",
       "  </thead>\n",
       "  <tbody>\n",
       "    <tr>\n",
       "      <th>1</th>\n",
       "      <td>Apple</td>\n",
       "      <td>Ultrabook</td>\n",
       "      <td>13.3</td>\n",
       "      <td>IPS Panel Retina Display 2560x1600</td>\n",
       "      <td>Intel Core i5 2.3GHz</td>\n",
       "      <td>8</td>\n",
       "      <td>128GB SSD</td>\n",
       "      <td>Intel Iris Plus Graphics 640</td>\n",
       "      <td>macOS</td>\n",
       "      <td>1.37</td>\n",
       "      <td>1339.69</td>\n",
       "      <td>2.3</td>\n",
       "    </tr>\n",
       "    <tr>\n",
       "      <th>2</th>\n",
       "      <td>Apple</td>\n",
       "      <td>Ultrabook</td>\n",
       "      <td>13.3</td>\n",
       "      <td>1440x900</td>\n",
       "      <td>Intel Core i5 1.8GHz</td>\n",
       "      <td>8</td>\n",
       "      <td>128GB Flash Storage</td>\n",
       "      <td>Intel HD Graphics 6000</td>\n",
       "      <td>macOS</td>\n",
       "      <td>1.34</td>\n",
       "      <td>898.94</td>\n",
       "      <td>1.8</td>\n",
       "    </tr>\n",
       "    <tr>\n",
       "      <th>3</th>\n",
       "      <td>HP</td>\n",
       "      <td>Notebook</td>\n",
       "      <td>15.6</td>\n",
       "      <td>Full HD 1920x1080</td>\n",
       "      <td>Intel Core i5 7200U 2.5GHz</td>\n",
       "      <td>8</td>\n",
       "      <td>256GB SSD</td>\n",
       "      <td>Intel HD Graphics 620</td>\n",
       "      <td>No OS</td>\n",
       "      <td>1.86</td>\n",
       "      <td>575.00</td>\n",
       "      <td>2.5</td>\n",
       "    </tr>\n",
       "    <tr>\n",
       "      <th>4</th>\n",
       "      <td>Apple</td>\n",
       "      <td>Ultrabook</td>\n",
       "      <td>15.4</td>\n",
       "      <td>IPS Panel Retina Display 2880x1800</td>\n",
       "      <td>Intel Core i7 2.7GHz</td>\n",
       "      <td>16</td>\n",
       "      <td>512GB SSD</td>\n",
       "      <td>AMD Radeon Pro 455</td>\n",
       "      <td>macOS</td>\n",
       "      <td>1.83</td>\n",
       "      <td>2537.45</td>\n",
       "      <td>2.7</td>\n",
       "    </tr>\n",
       "    <tr>\n",
       "      <th>5</th>\n",
       "      <td>Apple</td>\n",
       "      <td>Ultrabook</td>\n",
       "      <td>13.3</td>\n",
       "      <td>IPS Panel Retina Display 2560x1600</td>\n",
       "      <td>Intel Core i5 3.1GHz</td>\n",
       "      <td>8</td>\n",
       "      <td>256GB SSD</td>\n",
       "      <td>Intel Iris Plus Graphics 650</td>\n",
       "      <td>macOS</td>\n",
       "      <td>1.37</td>\n",
       "      <td>1803.60</td>\n",
       "      <td>3.1</td>\n",
       "    </tr>\n",
       "  </tbody>\n",
       "</table>\n",
       "</div>"
      ],
      "text/plain": [
       "          Company   TypeName  Inches                    ScreenResolution  \\\n",
       "laptop_ID                                                                  \n",
       "1           Apple  Ultrabook    13.3  IPS Panel Retina Display 2560x1600   \n",
       "2           Apple  Ultrabook    13.3                            1440x900   \n",
       "3              HP   Notebook    15.6                   Full HD 1920x1080   \n",
       "4           Apple  Ultrabook    15.4  IPS Panel Retina Display 2880x1800   \n",
       "5           Apple  Ultrabook    13.3  IPS Panel Retina Display 2560x1600   \n",
       "\n",
       "                                  Cpu  Ram               Memory  \\\n",
       "laptop_ID                                                         \n",
       "1                Intel Core i5 2.3GHz    8            128GB SSD   \n",
       "2                Intel Core i5 1.8GHz    8  128GB Flash Storage   \n",
       "3          Intel Core i5 7200U 2.5GHz    8            256GB SSD   \n",
       "4                Intel Core i7 2.7GHz   16            512GB SSD   \n",
       "5                Intel Core i5 3.1GHz    8            256GB SSD   \n",
       "\n",
       "                                    Gpu  OpSys  Weight  Price_euros  \\\n",
       "laptop_ID                                                             \n",
       "1          Intel Iris Plus Graphics 640  macOS    1.37      1339.69   \n",
       "2                Intel HD Graphics 6000  macOS    1.34       898.94   \n",
       "3                 Intel HD Graphics 620  No OS    1.86       575.00   \n",
       "4                    AMD Radeon Pro 455  macOS    1.83      2537.45   \n",
       "5          Intel Iris Plus Graphics 650  macOS    1.37      1803.60   \n",
       "\n",
       "           ClockSpeed  \n",
       "laptop_ID              \n",
       "1                 2.3  \n",
       "2                 1.8  \n",
       "3                 2.5  \n",
       "4                 2.7  \n",
       "5                 3.1  "
      ]
     },
     "execution_count": 23,
     "metadata": {},
     "output_type": "execute_result"
    }
   ],
   "source": [
    "df.head()"
   ]
  },
  {
   "cell_type": "markdown",
   "id": "3004538c",
   "metadata": {},
   "source": [
    "We successed to get the clockspeed information from 'Cpu' feature. So, we do not need 'Cpu' catagory anymore."
   ]
  },
  {
   "cell_type": "code",
   "execution_count": 24,
   "id": "a23b6f98",
   "metadata": {},
   "outputs": [],
   "source": [
    "df.drop('Cpu',axis =1,inplace =True)"
   ]
  },
  {
   "cell_type": "code",
   "execution_count": 25,
   "id": "d3ef57a1",
   "metadata": {},
   "outputs": [
    {
     "data": {
      "text/html": [
       "<div>\n",
       "<style scoped>\n",
       "    .dataframe tbody tr th:only-of-type {\n",
       "        vertical-align: middle;\n",
       "    }\n",
       "\n",
       "    .dataframe tbody tr th {\n",
       "        vertical-align: top;\n",
       "    }\n",
       "\n",
       "    .dataframe thead th {\n",
       "        text-align: right;\n",
       "    }\n",
       "</style>\n",
       "<table border=\"1\" class=\"dataframe\">\n",
       "  <thead>\n",
       "    <tr style=\"text-align: right;\">\n",
       "      <th></th>\n",
       "      <th>Company</th>\n",
       "      <th>TypeName</th>\n",
       "      <th>Inches</th>\n",
       "      <th>ScreenResolution</th>\n",
       "      <th>Ram</th>\n",
       "      <th>Memory</th>\n",
       "      <th>Gpu</th>\n",
       "      <th>OpSys</th>\n",
       "      <th>Weight</th>\n",
       "      <th>Price_euros</th>\n",
       "      <th>ClockSpeed</th>\n",
       "    </tr>\n",
       "    <tr>\n",
       "      <th>laptop_ID</th>\n",
       "      <th></th>\n",
       "      <th></th>\n",
       "      <th></th>\n",
       "      <th></th>\n",
       "      <th></th>\n",
       "      <th></th>\n",
       "      <th></th>\n",
       "      <th></th>\n",
       "      <th></th>\n",
       "      <th></th>\n",
       "      <th></th>\n",
       "    </tr>\n",
       "  </thead>\n",
       "  <tbody>\n",
       "    <tr>\n",
       "      <th>1</th>\n",
       "      <td>Apple</td>\n",
       "      <td>Ultrabook</td>\n",
       "      <td>13.3</td>\n",
       "      <td>IPS Panel Retina Display 2560x1600</td>\n",
       "      <td>8</td>\n",
       "      <td>128GB SSD</td>\n",
       "      <td>Intel Iris Plus Graphics 640</td>\n",
       "      <td>macOS</td>\n",
       "      <td>1.37</td>\n",
       "      <td>1339.69</td>\n",
       "      <td>2.3</td>\n",
       "    </tr>\n",
       "    <tr>\n",
       "      <th>2</th>\n",
       "      <td>Apple</td>\n",
       "      <td>Ultrabook</td>\n",
       "      <td>13.3</td>\n",
       "      <td>1440x900</td>\n",
       "      <td>8</td>\n",
       "      <td>128GB Flash Storage</td>\n",
       "      <td>Intel HD Graphics 6000</td>\n",
       "      <td>macOS</td>\n",
       "      <td>1.34</td>\n",
       "      <td>898.94</td>\n",
       "      <td>1.8</td>\n",
       "    </tr>\n",
       "    <tr>\n",
       "      <th>3</th>\n",
       "      <td>HP</td>\n",
       "      <td>Notebook</td>\n",
       "      <td>15.6</td>\n",
       "      <td>Full HD 1920x1080</td>\n",
       "      <td>8</td>\n",
       "      <td>256GB SSD</td>\n",
       "      <td>Intel HD Graphics 620</td>\n",
       "      <td>No OS</td>\n",
       "      <td>1.86</td>\n",
       "      <td>575.00</td>\n",
       "      <td>2.5</td>\n",
       "    </tr>\n",
       "    <tr>\n",
       "      <th>4</th>\n",
       "      <td>Apple</td>\n",
       "      <td>Ultrabook</td>\n",
       "      <td>15.4</td>\n",
       "      <td>IPS Panel Retina Display 2880x1800</td>\n",
       "      <td>16</td>\n",
       "      <td>512GB SSD</td>\n",
       "      <td>AMD Radeon Pro 455</td>\n",
       "      <td>macOS</td>\n",
       "      <td>1.83</td>\n",
       "      <td>2537.45</td>\n",
       "      <td>2.7</td>\n",
       "    </tr>\n",
       "    <tr>\n",
       "      <th>5</th>\n",
       "      <td>Apple</td>\n",
       "      <td>Ultrabook</td>\n",
       "      <td>13.3</td>\n",
       "      <td>IPS Panel Retina Display 2560x1600</td>\n",
       "      <td>8</td>\n",
       "      <td>256GB SSD</td>\n",
       "      <td>Intel Iris Plus Graphics 650</td>\n",
       "      <td>macOS</td>\n",
       "      <td>1.37</td>\n",
       "      <td>1803.60</td>\n",
       "      <td>3.1</td>\n",
       "    </tr>\n",
       "  </tbody>\n",
       "</table>\n",
       "</div>"
      ],
      "text/plain": [
       "          Company   TypeName  Inches                    ScreenResolution  Ram  \\\n",
       "laptop_ID                                                                       \n",
       "1           Apple  Ultrabook    13.3  IPS Panel Retina Display 2560x1600    8   \n",
       "2           Apple  Ultrabook    13.3                            1440x900    8   \n",
       "3              HP   Notebook    15.6                   Full HD 1920x1080    8   \n",
       "4           Apple  Ultrabook    15.4  IPS Panel Retina Display 2880x1800   16   \n",
       "5           Apple  Ultrabook    13.3  IPS Panel Retina Display 2560x1600    8   \n",
       "\n",
       "                        Memory                           Gpu  OpSys  Weight  \\\n",
       "laptop_ID                                                                     \n",
       "1                    128GB SSD  Intel Iris Plus Graphics 640  macOS    1.37   \n",
       "2          128GB Flash Storage        Intel HD Graphics 6000  macOS    1.34   \n",
       "3                    256GB SSD         Intel HD Graphics 620  No OS    1.86   \n",
       "4                    512GB SSD            AMD Radeon Pro 455  macOS    1.83   \n",
       "5                    256GB SSD  Intel Iris Plus Graphics 650  macOS    1.37   \n",
       "\n",
       "           Price_euros  ClockSpeed  \n",
       "laptop_ID                           \n",
       "1              1339.69         2.3  \n",
       "2               898.94         1.8  \n",
       "3               575.00         2.5  \n",
       "4              2537.45         2.7  \n",
       "5              1803.60         3.1  "
      ]
     },
     "execution_count": 25,
     "metadata": {},
     "output_type": "execute_result"
    }
   ],
   "source": [
    "df.head()"
   ]
  },
  {
   "cell_type": "code",
   "execution_count": 26,
   "id": "5a185d09",
   "metadata": {
    "scrolled": true
   },
   "outputs": [
    {
     "data": {
      "text/plain": [
       "Full HD 1920x1080                                507\n",
       "1366x768                                         281\n",
       "IPS Panel Full HD 1920x1080                      230\n",
       "IPS Panel Full HD / Touchscreen 1920x1080         53\n",
       "Full HD / Touchscreen 1920x1080                   47\n",
       "1600x900                                          23\n",
       "Touchscreen 1366x768                              16\n",
       "Quad HD+ / Touchscreen 3200x1800                  15\n",
       "IPS Panel 4K Ultra HD 3840x2160                   12\n",
       "IPS Panel 4K Ultra HD / Touchscreen 3840x2160     11\n",
       "4K Ultra HD / Touchscreen 3840x2160               10\n",
       "4K Ultra HD 3840x2160                              7\n",
       "Touchscreen 2560x1440                              7\n",
       "IPS Panel 1366x768                                 7\n",
       "IPS Panel Quad HD+ / Touchscreen 3200x1800         6\n",
       "IPS Panel Retina Display 2560x1600                 6\n",
       "IPS Panel Retina Display 2304x1440                 6\n",
       "Touchscreen 2256x1504                              6\n",
       "IPS Panel Touchscreen 2560x1440                    5\n",
       "IPS Panel Retina Display 2880x1800                 4\n",
       "IPS Panel Touchscreen 1920x1200                    4\n",
       "1440x900                                           4\n",
       "IPS Panel 2560x1440                                4\n",
       "IPS Panel Quad HD+ 2560x1440                       3\n",
       "Quad HD+ 3200x1800                                 3\n",
       "1920x1080                                          3\n",
       "Touchscreen 2400x1600                              3\n",
       "2560x1440                                          3\n",
       "IPS Panel Touchscreen 1366x768                     3\n",
       "IPS Panel Touchscreen / 4K Ultra HD 3840x2160      2\n",
       "IPS Panel Full HD 2160x1440                        2\n",
       "IPS Panel Quad HD+ 3200x1800                       2\n",
       "IPS Panel Retina Display 2736x1824                 1\n",
       "IPS Panel Full HD 1920x1200                        1\n",
       "IPS Panel Full HD 2560x1440                        1\n",
       "IPS Panel Full HD 1366x768                         1\n",
       "Touchscreen / Full HD 1920x1080                    1\n",
       "Touchscreen / Quad HD+ 3200x1800                   1\n",
       "Touchscreen / 4K Ultra HD 3840x2160                1\n",
       "IPS Panel Touchscreen 2400x1600                    1\n",
       "Name: ScreenResolution, dtype: int64"
      ]
     },
     "execution_count": 26,
     "metadata": {},
     "output_type": "execute_result"
    }
   ],
   "source": [
    "df['ScreenResolution'].value_counts()"
   ]
  },
  {
   "cell_type": "markdown",
   "id": "864171d2",
   "metadata": {},
   "source": [
    "There are many type of screen info. It is very hard to differantiate them. However, it is possible to get the resolution value info from this feature. If you examine them carefuly, it can be seen that the resolution part is the last portion in all rows. So, we can split this feature to its parts and get the pixel values."
   ]
  },
  {
   "cell_type": "code",
   "execution_count": 27,
   "id": "4a611aee",
   "metadata": {},
   "outputs": [
    {
     "data": {
      "text/plain": [
       "'1920x1080'"
      ]
     },
     "execution_count": 27,
     "metadata": {},
     "output_type": "execute_result"
    }
   ],
   "source": [
    "resolution = df['ScreenResolution'].iloc[40]\n",
    "quality = resolution.split()[-1]\n",
    "quality"
   ]
  },
  {
   "cell_type": "markdown",
   "id": "746f6e42",
   "metadata": {},
   "source": [
    "Now, we managed to get the resolution info. To process it in our model, ww need to seperate it to width and height pixel values."
   ]
  },
  {
   "cell_type": "code",
   "execution_count": 28,
   "id": "8ea76270",
   "metadata": {},
   "outputs": [],
   "source": [
    "def width(screen):\n",
    "\n",
    "    quality = screen.split()[-1]\n",
    "    result = int(quality.split('x')[0])\n",
    "            \n",
    "    return result"
   ]
  },
  {
   "cell_type": "code",
   "execution_count": 29,
   "id": "f476c168",
   "metadata": {},
   "outputs": [],
   "source": [
    "def height(screen):\n",
    "\n",
    "    quality = screen.split()[-1]\n",
    "    result = int(quality.split('x')[1])\n",
    "            \n",
    "    return result"
   ]
  },
  {
   "cell_type": "code",
   "execution_count": 30,
   "id": "bcb32d09",
   "metadata": {},
   "outputs": [],
   "source": [
    "df['Width'] = df['ScreenResolution'].apply(width)"
   ]
  },
  {
   "cell_type": "code",
   "execution_count": 31,
   "id": "e5df9f1e",
   "metadata": {},
   "outputs": [],
   "source": [
    "df['Height'] = df['ScreenResolution'].apply(height)"
   ]
  },
  {
   "cell_type": "markdown",
   "id": "8750c80f",
   "metadata": {},
   "source": [
    "Image quality is a product of width and height pixel values."
   ]
  },
  {
   "cell_type": "code",
   "execution_count": 32,
   "id": "51efe23d",
   "metadata": {},
   "outputs": [],
   "source": [
    "df['Pixel'] = df['Width'] * df['Height']"
   ]
  },
  {
   "cell_type": "code",
   "execution_count": 33,
   "id": "013ce42b",
   "metadata": {},
   "outputs": [
    {
     "data": {
      "text/plain": [
       "2073600    841\n",
       "1049088    308\n",
       "8294400     43\n",
       "5760000     27\n",
       "3686400     23\n",
       "1440000     23\n",
       "4096000      6\n",
       "3317760      6\n",
       "3393024      6\n",
       "2304000      5\n",
       "1296000      4\n",
       "5184000      4\n",
       "3840000      4\n",
       "3110400      2\n",
       "4990464      1\n",
       "Name: Pixel, dtype: int64"
      ]
     },
     "execution_count": 33,
     "metadata": {},
     "output_type": "execute_result"
    }
   ],
   "source": [
    "df['Pixel'].value_counts()"
   ]
  },
  {
   "cell_type": "markdown",
   "id": "ce63d9c8",
   "metadata": {},
   "source": [
    "The higher the pixel value, the better theimage quality. We got the pixel value of the display so we can drop ScreenResolution feature."
   ]
  },
  {
   "cell_type": "code",
   "execution_count": 34,
   "id": "66335cab",
   "metadata": {},
   "outputs": [],
   "source": [
    "df.drop('ScreenResolution',axis =1,inplace =True)"
   ]
  },
  {
   "cell_type": "code",
   "execution_count": 35,
   "id": "d2449a9c",
   "metadata": {},
   "outputs": [
    {
     "data": {
      "text/html": [
       "<div>\n",
       "<style scoped>\n",
       "    .dataframe tbody tr th:only-of-type {\n",
       "        vertical-align: middle;\n",
       "    }\n",
       "\n",
       "    .dataframe tbody tr th {\n",
       "        vertical-align: top;\n",
       "    }\n",
       "\n",
       "    .dataframe thead th {\n",
       "        text-align: right;\n",
       "    }\n",
       "</style>\n",
       "<table border=\"1\" class=\"dataframe\">\n",
       "  <thead>\n",
       "    <tr style=\"text-align: right;\">\n",
       "      <th></th>\n",
       "      <th>Company</th>\n",
       "      <th>TypeName</th>\n",
       "      <th>Inches</th>\n",
       "      <th>Ram</th>\n",
       "      <th>Memory</th>\n",
       "      <th>Gpu</th>\n",
       "      <th>OpSys</th>\n",
       "      <th>Weight</th>\n",
       "      <th>Price_euros</th>\n",
       "      <th>ClockSpeed</th>\n",
       "      <th>Width</th>\n",
       "      <th>Height</th>\n",
       "      <th>Pixel</th>\n",
       "    </tr>\n",
       "    <tr>\n",
       "      <th>laptop_ID</th>\n",
       "      <th></th>\n",
       "      <th></th>\n",
       "      <th></th>\n",
       "      <th></th>\n",
       "      <th></th>\n",
       "      <th></th>\n",
       "      <th></th>\n",
       "      <th></th>\n",
       "      <th></th>\n",
       "      <th></th>\n",
       "      <th></th>\n",
       "      <th></th>\n",
       "      <th></th>\n",
       "    </tr>\n",
       "  </thead>\n",
       "  <tbody>\n",
       "    <tr>\n",
       "      <th>1</th>\n",
       "      <td>Apple</td>\n",
       "      <td>Ultrabook</td>\n",
       "      <td>13.3</td>\n",
       "      <td>8</td>\n",
       "      <td>128GB SSD</td>\n",
       "      <td>Intel Iris Plus Graphics 640</td>\n",
       "      <td>macOS</td>\n",
       "      <td>1.37</td>\n",
       "      <td>1339.69</td>\n",
       "      <td>2.3</td>\n",
       "      <td>2560</td>\n",
       "      <td>1600</td>\n",
       "      <td>4096000</td>\n",
       "    </tr>\n",
       "    <tr>\n",
       "      <th>2</th>\n",
       "      <td>Apple</td>\n",
       "      <td>Ultrabook</td>\n",
       "      <td>13.3</td>\n",
       "      <td>8</td>\n",
       "      <td>128GB Flash Storage</td>\n",
       "      <td>Intel HD Graphics 6000</td>\n",
       "      <td>macOS</td>\n",
       "      <td>1.34</td>\n",
       "      <td>898.94</td>\n",
       "      <td>1.8</td>\n",
       "      <td>1440</td>\n",
       "      <td>900</td>\n",
       "      <td>1296000</td>\n",
       "    </tr>\n",
       "    <tr>\n",
       "      <th>3</th>\n",
       "      <td>HP</td>\n",
       "      <td>Notebook</td>\n",
       "      <td>15.6</td>\n",
       "      <td>8</td>\n",
       "      <td>256GB SSD</td>\n",
       "      <td>Intel HD Graphics 620</td>\n",
       "      <td>No OS</td>\n",
       "      <td>1.86</td>\n",
       "      <td>575.00</td>\n",
       "      <td>2.5</td>\n",
       "      <td>1920</td>\n",
       "      <td>1080</td>\n",
       "      <td>2073600</td>\n",
       "    </tr>\n",
       "    <tr>\n",
       "      <th>4</th>\n",
       "      <td>Apple</td>\n",
       "      <td>Ultrabook</td>\n",
       "      <td>15.4</td>\n",
       "      <td>16</td>\n",
       "      <td>512GB SSD</td>\n",
       "      <td>AMD Radeon Pro 455</td>\n",
       "      <td>macOS</td>\n",
       "      <td>1.83</td>\n",
       "      <td>2537.45</td>\n",
       "      <td>2.7</td>\n",
       "      <td>2880</td>\n",
       "      <td>1800</td>\n",
       "      <td>5184000</td>\n",
       "    </tr>\n",
       "    <tr>\n",
       "      <th>5</th>\n",
       "      <td>Apple</td>\n",
       "      <td>Ultrabook</td>\n",
       "      <td>13.3</td>\n",
       "      <td>8</td>\n",
       "      <td>256GB SSD</td>\n",
       "      <td>Intel Iris Plus Graphics 650</td>\n",
       "      <td>macOS</td>\n",
       "      <td>1.37</td>\n",
       "      <td>1803.60</td>\n",
       "      <td>3.1</td>\n",
       "      <td>2560</td>\n",
       "      <td>1600</td>\n",
       "      <td>4096000</td>\n",
       "    </tr>\n",
       "  </tbody>\n",
       "</table>\n",
       "</div>"
      ],
      "text/plain": [
       "          Company   TypeName  Inches  Ram               Memory  \\\n",
       "laptop_ID                                                        \n",
       "1           Apple  Ultrabook    13.3    8            128GB SSD   \n",
       "2           Apple  Ultrabook    13.3    8  128GB Flash Storage   \n",
       "3              HP   Notebook    15.6    8            256GB SSD   \n",
       "4           Apple  Ultrabook    15.4   16            512GB SSD   \n",
       "5           Apple  Ultrabook    13.3    8            256GB SSD   \n",
       "\n",
       "                                    Gpu  OpSys  Weight  Price_euros  \\\n",
       "laptop_ID                                                             \n",
       "1          Intel Iris Plus Graphics 640  macOS    1.37      1339.69   \n",
       "2                Intel HD Graphics 6000  macOS    1.34       898.94   \n",
       "3                 Intel HD Graphics 620  No OS    1.86       575.00   \n",
       "4                    AMD Radeon Pro 455  macOS    1.83      2537.45   \n",
       "5          Intel Iris Plus Graphics 650  macOS    1.37      1803.60   \n",
       "\n",
       "           ClockSpeed  Width  Height    Pixel  \n",
       "laptop_ID                                      \n",
       "1                 2.3   2560    1600  4096000  \n",
       "2                 1.8   1440     900  1296000  \n",
       "3                 2.5   1920    1080  2073600  \n",
       "4                 2.7   2880    1800  5184000  \n",
       "5                 3.1   2560    1600  4096000  "
      ]
     },
     "execution_count": 35,
     "metadata": {},
     "output_type": "execute_result"
    }
   ],
   "source": [
    "df.head()"
   ]
  },
  {
   "cell_type": "markdown",
   "id": "90de43f2",
   "metadata": {},
   "source": [
    "Let's check the correlation between features and price."
   ]
  },
  {
   "cell_type": "code",
   "execution_count": 36,
   "id": "f0c5a454",
   "metadata": {},
   "outputs": [
    {
     "data": {
      "text/plain": [
       "Price_euros    1.000000\n",
       "Ram            0.743007\n",
       "Width          0.556529\n",
       "Height         0.552809\n",
       "Pixel          0.515486\n",
       "ClockSpeed     0.430293\n",
       "Weight         0.210370\n",
       "Inches         0.068197\n",
       "Name: Price_euros, dtype: float64"
      ]
     },
     "execution_count": 36,
     "metadata": {},
     "output_type": "execute_result"
    }
   ],
   "source": [
    "df.corr()['Price_euros'].sort_values(ascending=False)"
   ]
  },
  {
   "cell_type": "markdown",
   "id": "9b6a94d9",
   "metadata": {},
   "source": [
    "Only inch value has little effect on price, lets try to add another parameter."
   ]
  },
  {
   "cell_type": "code",
   "execution_count": 37,
   "id": "e0ae6a2f",
   "metadata": {},
   "outputs": [],
   "source": [
    "df['PPI'] = ((df['Width'])**2 + (df['Height'])**2)**0.5/df['Inches']\n",
    "df['PPI'] = round(df['PPI'],2)"
   ]
  },
  {
   "attachments": {
    "image-2.png": {
     "image/png": "[encoded data removed]"
    },
    "image-3.png": {
     "image/png": "[encoded data removed]"
    },
    "image.png": {
     "image/png": "[encoded data removed]"
    }
   },
   "cell_type": "markdown",
   "id": "98242818",
   "metadata": {},
   "source": [
    "PPI stands for Pixel per Inches. It shows the density of pixels in a screen. The formula is below:\n",
    "![image-2.png](attachment:image-2.png) ![image.png](attachment:image.png) ![image-3.png](attachment:image-3.png)"
   ]
  },
  {
   "cell_type": "code",
   "execution_count": 38,
   "id": "ca7ed6a1",
   "metadata": {},
   "outputs": [
    {
     "data": {
      "text/html": [
       "<div>\n",
       "<style scoped>\n",
       "    .dataframe tbody tr th:only-of-type {\n",
       "        vertical-align: middle;\n",
       "    }\n",
       "\n",
       "    .dataframe tbody tr th {\n",
       "        vertical-align: top;\n",
       "    }\n",
       "\n",
       "    .dataframe thead th {\n",
       "        text-align: right;\n",
       "    }\n",
       "</style>\n",
       "<table border=\"1\" class=\"dataframe\">\n",
       "  <thead>\n",
       "    <tr style=\"text-align: right;\">\n",
       "      <th></th>\n",
       "      <th>Company</th>\n",
       "      <th>TypeName</th>\n",
       "      <th>Inches</th>\n",
       "      <th>Ram</th>\n",
       "      <th>Memory</th>\n",
       "      <th>Gpu</th>\n",
       "      <th>OpSys</th>\n",
       "      <th>Weight</th>\n",
       "      <th>Price_euros</th>\n",
       "      <th>ClockSpeed</th>\n",
       "      <th>Width</th>\n",
       "      <th>Height</th>\n",
       "      <th>Pixel</th>\n",
       "      <th>PPI</th>\n",
       "    </tr>\n",
       "    <tr>\n",
       "      <th>laptop_ID</th>\n",
       "      <th></th>\n",
       "      <th></th>\n",
       "      <th></th>\n",
       "      <th></th>\n",
       "      <th></th>\n",
       "      <th></th>\n",
       "      <th></th>\n",
       "      <th></th>\n",
       "      <th></th>\n",
       "      <th></th>\n",
       "      <th></th>\n",
       "      <th></th>\n",
       "      <th></th>\n",
       "      <th></th>\n",
       "    </tr>\n",
       "  </thead>\n",
       "  <tbody>\n",
       "    <tr>\n",
       "      <th>1</th>\n",
       "      <td>Apple</td>\n",
       "      <td>Ultrabook</td>\n",
       "      <td>13.3</td>\n",
       "      <td>8</td>\n",
       "      <td>128GB SSD</td>\n",
       "      <td>Intel Iris Plus Graphics 640</td>\n",
       "      <td>macOS</td>\n",
       "      <td>1.37</td>\n",
       "      <td>1339.69</td>\n",
       "      <td>2.3</td>\n",
       "      <td>2560</td>\n",
       "      <td>1600</td>\n",
       "      <td>4096000</td>\n",
       "      <td>226.98</td>\n",
       "    </tr>\n",
       "    <tr>\n",
       "      <th>2</th>\n",
       "      <td>Apple</td>\n",
       "      <td>Ultrabook</td>\n",
       "      <td>13.3</td>\n",
       "      <td>8</td>\n",
       "      <td>128GB Flash Storage</td>\n",
       "      <td>Intel HD Graphics 6000</td>\n",
       "      <td>macOS</td>\n",
       "      <td>1.34</td>\n",
       "      <td>898.94</td>\n",
       "      <td>1.8</td>\n",
       "      <td>1440</td>\n",
       "      <td>900</td>\n",
       "      <td>1296000</td>\n",
       "      <td>127.68</td>\n",
       "    </tr>\n",
       "    <tr>\n",
       "      <th>3</th>\n",
       "      <td>HP</td>\n",
       "      <td>Notebook</td>\n",
       "      <td>15.6</td>\n",
       "      <td>8</td>\n",
       "      <td>256GB SSD</td>\n",
       "      <td>Intel HD Graphics 620</td>\n",
       "      <td>No OS</td>\n",
       "      <td>1.86</td>\n",
       "      <td>575.00</td>\n",
       "      <td>2.5</td>\n",
       "      <td>1920</td>\n",
       "      <td>1080</td>\n",
       "      <td>2073600</td>\n",
       "      <td>141.21</td>\n",
       "    </tr>\n",
       "    <tr>\n",
       "      <th>4</th>\n",
       "      <td>Apple</td>\n",
       "      <td>Ultrabook</td>\n",
       "      <td>15.4</td>\n",
       "      <td>16</td>\n",
       "      <td>512GB SSD</td>\n",
       "      <td>AMD Radeon Pro 455</td>\n",
       "      <td>macOS</td>\n",
       "      <td>1.83</td>\n",
       "      <td>2537.45</td>\n",
       "      <td>2.7</td>\n",
       "      <td>2880</td>\n",
       "      <td>1800</td>\n",
       "      <td>5184000</td>\n",
       "      <td>220.53</td>\n",
       "    </tr>\n",
       "    <tr>\n",
       "      <th>5</th>\n",
       "      <td>Apple</td>\n",
       "      <td>Ultrabook</td>\n",
       "      <td>13.3</td>\n",
       "      <td>8</td>\n",
       "      <td>256GB SSD</td>\n",
       "      <td>Intel Iris Plus Graphics 650</td>\n",
       "      <td>macOS</td>\n",
       "      <td>1.37</td>\n",
       "      <td>1803.60</td>\n",
       "      <td>3.1</td>\n",
       "      <td>2560</td>\n",
       "      <td>1600</td>\n",
       "      <td>4096000</td>\n",
       "      <td>226.98</td>\n",
       "    </tr>\n",
       "  </tbody>\n",
       "</table>\n",
       "</div>"
      ],
      "text/plain": [
       "          Company   TypeName  Inches  Ram               Memory  \\\n",
       "laptop_ID                                                        \n",
       "1           Apple  Ultrabook    13.3    8            128GB SSD   \n",
       "2           Apple  Ultrabook    13.3    8  128GB Flash Storage   \n",
       "3              HP   Notebook    15.6    8            256GB SSD   \n",
       "4           Apple  Ultrabook    15.4   16            512GB SSD   \n",
       "5           Apple  Ultrabook    13.3    8            256GB SSD   \n",
       "\n",
       "                                    Gpu  OpSys  Weight  Price_euros  \\\n",
       "laptop_ID                                                             \n",
       "1          Intel Iris Plus Graphics 640  macOS    1.37      1339.69   \n",
       "2                Intel HD Graphics 6000  macOS    1.34       898.94   \n",
       "3                 Intel HD Graphics 620  No OS    1.86       575.00   \n",
       "4                    AMD Radeon Pro 455  macOS    1.83      2537.45   \n",
       "5          Intel Iris Plus Graphics 650  macOS    1.37      1803.60   \n",
       "\n",
       "           ClockSpeed  Width  Height    Pixel     PPI  \n",
       "laptop_ID                                              \n",
       "1                 2.3   2560    1600  4096000  226.98  \n",
       "2                 1.8   1440     900  1296000  127.68  \n",
       "3                 2.5   1920    1080  2073600  141.21  \n",
       "4                 2.7   2880    1800  5184000  220.53  \n",
       "5                 3.1   2560    1600  4096000  226.98  "
      ]
     },
     "execution_count": 38,
     "metadata": {},
     "output_type": "execute_result"
    }
   ],
   "source": [
    "df.head()"
   ]
  },
  {
   "cell_type": "code",
   "execution_count": 39,
   "id": "56d55de0",
   "metadata": {},
   "outputs": [
    {
     "data": {
      "text/plain": [
       "Price_euros    1.000000\n",
       "Ram            0.743007\n",
       "Width          0.556529\n",
       "Height         0.552809\n",
       "Pixel          0.515486\n",
       "PPI            0.473506\n",
       "ClockSpeed     0.430293\n",
       "Weight         0.210370\n",
       "Inches         0.068197\n",
       "Name: Price_euros, dtype: float64"
      ]
     },
     "execution_count": 39,
     "metadata": {},
     "output_type": "execute_result"
    }
   ],
   "source": [
    "df.corr()['Price_euros'].sort_values(ascending=False)"
   ]
  },
  {
   "cell_type": "markdown",
   "id": "0edb3188",
   "metadata": {},
   "source": [
    "So, the PPI value is also an important feature for us. The 'Pixel' and 'PPI' features contain already enough information for us. For this reason, we can drop 'Width' and 'Height'."
   ]
  },
  {
   "cell_type": "code",
   "execution_count": 40,
   "id": "95275d17",
   "metadata": {},
   "outputs": [],
   "source": [
    "df.drop(['Width','Height'],axis = 1, inplace=True)"
   ]
  },
  {
   "cell_type": "markdown",
   "id": "4c50ab66",
   "metadata": {},
   "source": [
    "Now we can work on Memory and GPU, then we can move on to transforming every catagoric feature to OHE."
   ]
  },
  {
   "cell_type": "code",
   "execution_count": 41,
   "id": "35788ec9",
   "metadata": {
    "scrolled": true
   },
   "outputs": [
    {
     "data": {
      "text/plain": [
       "Intel HD Graphics 620      281\n",
       "Intel HD Graphics 520      185\n",
       "Intel UHD Graphics 620      68\n",
       "Nvidia GeForce GTX 1050     66\n",
       "Nvidia GeForce GTX 1060     48\n",
       "                          ... \n",
       "AMD Radeon R5 520            1\n",
       "AMD Radeon R7                1\n",
       "Intel HD Graphics 540        1\n",
       "AMD Radeon 540               1\n",
       "ARM Mali T860 MP4            1\n",
       "Name: Gpu, Length: 110, dtype: int64"
      ]
     },
     "execution_count": 41,
     "metadata": {},
     "output_type": "execute_result"
    }
   ],
   "source": [
    "df['Gpu'].value_counts()"
   ]
  },
  {
   "cell_type": "markdown",
   "id": "b718b80c",
   "metadata": {},
   "source": [
    "There are many GPU models as well but at least we can extract GPU Brand for comparison. It is possible that some brands more expensive than others."
   ]
  },
  {
   "cell_type": "code",
   "execution_count": 42,
   "id": "2fdedcb2",
   "metadata": {},
   "outputs": [],
   "source": [
    "def gpu_brand(name):\n",
    "    brand = name.split()[0]\n",
    "            \n",
    "    return brand"
   ]
  },
  {
   "cell_type": "code",
   "execution_count": 43,
   "id": "1aa08da6",
   "metadata": {},
   "outputs": [],
   "source": [
    "df['GPU_Brand'] = df['Gpu'].apply(gpu_brand)"
   ]
  },
  {
   "cell_type": "code",
   "execution_count": 44,
   "id": "e96a6a99",
   "metadata": {},
   "outputs": [
    {
     "data": {
      "text/plain": [
       "array(['Intel', 'AMD', 'Nvidia', 'ARM'], dtype=object)"
      ]
     },
     "execution_count": 44,
     "metadata": {},
     "output_type": "execute_result"
    }
   ],
   "source": [
    "df['GPU_Brand'].unique()"
   ]
  },
  {
   "cell_type": "markdown",
   "id": "648caabe",
   "metadata": {},
   "source": [
    "We extracted the brands from GPU. Thus, the Gpu feature is no longer necessary for us."
   ]
  },
  {
   "cell_type": "code",
   "execution_count": 45,
   "id": "6f1876cf",
   "metadata": {},
   "outputs": [
    {
     "data": {
      "text/html": [
       "<div>\n",
       "<style scoped>\n",
       "    .dataframe tbody tr th:only-of-type {\n",
       "        vertical-align: middle;\n",
       "    }\n",
       "\n",
       "    .dataframe tbody tr th {\n",
       "        vertical-align: top;\n",
       "    }\n",
       "\n",
       "    .dataframe thead th {\n",
       "        text-align: right;\n",
       "    }\n",
       "</style>\n",
       "<table border=\"1\" class=\"dataframe\">\n",
       "  <thead>\n",
       "    <tr style=\"text-align: right;\">\n",
       "      <th></th>\n",
       "      <th>Company</th>\n",
       "      <th>TypeName</th>\n",
       "      <th>Inches</th>\n",
       "      <th>Ram</th>\n",
       "      <th>Memory</th>\n",
       "      <th>OpSys</th>\n",
       "      <th>Weight</th>\n",
       "      <th>Price_euros</th>\n",
       "      <th>ClockSpeed</th>\n",
       "      <th>Pixel</th>\n",
       "      <th>PPI</th>\n",
       "      <th>GPU_Brand</th>\n",
       "    </tr>\n",
       "    <tr>\n",
       "      <th>laptop_ID</th>\n",
       "      <th></th>\n",
       "      <th></th>\n",
       "      <th></th>\n",
       "      <th></th>\n",
       "      <th></th>\n",
       "      <th></th>\n",
       "      <th></th>\n",
       "      <th></th>\n",
       "      <th></th>\n",
       "      <th></th>\n",
       "      <th></th>\n",
       "      <th></th>\n",
       "    </tr>\n",
       "  </thead>\n",
       "  <tbody>\n",
       "    <tr>\n",
       "      <th>1</th>\n",
       "      <td>Apple</td>\n",
       "      <td>Ultrabook</td>\n",
       "      <td>13.3</td>\n",
       "      <td>8</td>\n",
       "      <td>128GB SSD</td>\n",
       "      <td>macOS</td>\n",
       "      <td>1.37</td>\n",
       "      <td>1339.69</td>\n",
       "      <td>2.3</td>\n",
       "      <td>4096000</td>\n",
       "      <td>226.98</td>\n",
       "      <td>Intel</td>\n",
       "    </tr>\n",
       "    <tr>\n",
       "      <th>2</th>\n",
       "      <td>Apple</td>\n",
       "      <td>Ultrabook</td>\n",
       "      <td>13.3</td>\n",
       "      <td>8</td>\n",
       "      <td>128GB Flash Storage</td>\n",
       "      <td>macOS</td>\n",
       "      <td>1.34</td>\n",
       "      <td>898.94</td>\n",
       "      <td>1.8</td>\n",
       "      <td>1296000</td>\n",
       "      <td>127.68</td>\n",
       "      <td>Intel</td>\n",
       "    </tr>\n",
       "    <tr>\n",
       "      <th>3</th>\n",
       "      <td>HP</td>\n",
       "      <td>Notebook</td>\n",
       "      <td>15.6</td>\n",
       "      <td>8</td>\n",
       "      <td>256GB SSD</td>\n",
       "      <td>No OS</td>\n",
       "      <td>1.86</td>\n",
       "      <td>575.00</td>\n",
       "      <td>2.5</td>\n",
       "      <td>2073600</td>\n",
       "      <td>141.21</td>\n",
       "      <td>Intel</td>\n",
       "    </tr>\n",
       "    <tr>\n",
       "      <th>4</th>\n",
       "      <td>Apple</td>\n",
       "      <td>Ultrabook</td>\n",
       "      <td>15.4</td>\n",
       "      <td>16</td>\n",
       "      <td>512GB SSD</td>\n",
       "      <td>macOS</td>\n",
       "      <td>1.83</td>\n",
       "      <td>2537.45</td>\n",
       "      <td>2.7</td>\n",
       "      <td>5184000</td>\n",
       "      <td>220.53</td>\n",
       "      <td>AMD</td>\n",
       "    </tr>\n",
       "    <tr>\n",
       "      <th>5</th>\n",
       "      <td>Apple</td>\n",
       "      <td>Ultrabook</td>\n",
       "      <td>13.3</td>\n",
       "      <td>8</td>\n",
       "      <td>256GB SSD</td>\n",
       "      <td>macOS</td>\n",
       "      <td>1.37</td>\n",
       "      <td>1803.60</td>\n",
       "      <td>3.1</td>\n",
       "      <td>4096000</td>\n",
       "      <td>226.98</td>\n",
       "      <td>Intel</td>\n",
       "    </tr>\n",
       "  </tbody>\n",
       "</table>\n",
       "</div>"
      ],
      "text/plain": [
       "          Company   TypeName  Inches  Ram               Memory  OpSys  Weight  \\\n",
       "laptop_ID                                                                       \n",
       "1           Apple  Ultrabook    13.3    8            128GB SSD  macOS    1.37   \n",
       "2           Apple  Ultrabook    13.3    8  128GB Flash Storage  macOS    1.34   \n",
       "3              HP   Notebook    15.6    8            256GB SSD  No OS    1.86   \n",
       "4           Apple  Ultrabook    15.4   16            512GB SSD  macOS    1.83   \n",
       "5           Apple  Ultrabook    13.3    8            256GB SSD  macOS    1.37   \n",
       "\n",
       "           Price_euros  ClockSpeed    Pixel     PPI GPU_Brand  \n",
       "laptop_ID                                                      \n",
       "1              1339.69         2.3  4096000  226.98     Intel  \n",
       "2               898.94         1.8  1296000  127.68     Intel  \n",
       "3               575.00         2.5  2073600  141.21     Intel  \n",
       "4              2537.45         2.7  5184000  220.53       AMD  \n",
       "5              1803.60         3.1  4096000  226.98     Intel  "
      ]
     },
     "execution_count": 45,
     "metadata": {},
     "output_type": "execute_result"
    }
   ],
   "source": [
    "df.drop('Gpu',axis = 1, inplace=True)\n",
    "df.head()"
   ]
  },
  {
   "cell_type": "markdown",
   "id": "d21e2741",
   "metadata": {},
   "source": [
    "Now, it is time to work on 'Memory'. For device memory, both the capacity and the speed of the storage are important."
   ]
  },
  {
   "cell_type": "code",
   "execution_count": 46,
   "id": "241f7648",
   "metadata": {
    "scrolled": true
   },
   "outputs": [
    {
     "data": {
      "text/plain": [
       "256GB SSD                        412\n",
       "1TB HDD                          223\n",
       "500GB HDD                        132\n",
       "512GB SSD                        118\n",
       "128GB SSD +  1TB HDD              94\n",
       "128GB SSD                         76\n",
       "256GB SSD +  1TB HDD              73\n",
       "32GB Flash Storage                38\n",
       "2TB HDD                           16\n",
       "64GB Flash Storage                15\n",
       "512GB SSD +  1TB HDD              14\n",
       "1TB SSD                           14\n",
       "256GB SSD +  2TB HDD              10\n",
       "1.0TB Hybrid                       9\n",
       "256GB Flash Storage                8\n",
       "16GB Flash Storage                 7\n",
       "32GB SSD                           6\n",
       "180GB SSD                          5\n",
       "128GB Flash Storage                4\n",
       "512GB SSD +  2TB HDD               3\n",
       "16GB SSD                           3\n",
       "512GB Flash Storage                2\n",
       "1TB SSD +  1TB HDD                 2\n",
       "256GB SSD +  500GB HDD             2\n",
       "128GB SSD +  2TB HDD               2\n",
       "256GB SSD +  256GB SSD             2\n",
       "512GB SSD +  256GB SSD             1\n",
       "512GB SSD +  512GB SSD             1\n",
       "64GB Flash Storage +  1TB HDD      1\n",
       "1TB HDD +  1TB HDD                 1\n",
       "32GB HDD                           1\n",
       "64GB SSD                           1\n",
       "128GB HDD                          1\n",
       "240GB SSD                          1\n",
       "8GB SSD                            1\n",
       "508GB Hybrid                       1\n",
       "1.0TB HDD                          1\n",
       "512GB SSD +  1.0TB Hybrid          1\n",
       "256GB SSD +  1.0TB Hybrid          1\n",
       "Name: Memory, dtype: int64"
      ]
     },
     "execution_count": 46,
     "metadata": {},
     "output_type": "execute_result"
    }
   ],
   "source": [
    "df['Memory'].value_counts()"
   ]
  },
  {
   "cell_type": "markdown",
   "id": "8d8751b7",
   "metadata": {},
   "source": [
    "There are many type of memory we must work on here. We can extract the amount of the storage by extracting the values from the feature. The speed of the storage cannot be found from this dataset however we can identify the technologies."
   ]
  },
  {
   "cell_type": "code",
   "execution_count": 47,
   "id": "3eb8554d",
   "metadata": {},
   "outputs": [
    {
     "data": {
      "text/plain": [
       "['256', '2']"
      ]
     },
     "execution_count": 47,
     "metadata": {},
     "output_type": "execute_result"
    }
   ],
   "source": [
    "re.findall(r'\\d+', \"256GB SSD +  2TB HDD\")"
   ]
  },
  {
   "cell_type": "markdown",
   "id": "fc2e23b1",
   "metadata": {},
   "source": [
    "This built-in function can detect positive numbers. However, we should be careful about GB and TB. 1 TB equals to 1024 GB."
   ]
  },
  {
   "cell_type": "code",
   "execution_count": 48,
   "id": "dd8f4c47",
   "metadata": {},
   "outputs": [],
   "source": [
    "def storage(name):\n",
    "    storage = name.split()\n",
    "    amount = 0\n",
    "    \n",
    "    for element in storage:\n",
    "        if 'GB' in element:\n",
    "            amount += int(element[:-2])\n",
    "        elif 'TB' in element:\n",
    "            amount += float(element[:-2])*1024\n",
    "            \n",
    "    return int(amount)"
   ]
  },
  {
   "cell_type": "markdown",
   "id": "3887a7f0",
   "metadata": {},
   "source": [
    "Let's try our function with some examples."
   ]
  },
  {
   "cell_type": "code",
   "execution_count": 49,
   "id": "32ec95f2",
   "metadata": {},
   "outputs": [
    {
     "data": {
      "text/plain": [
       "512"
      ]
     },
     "execution_count": 49,
     "metadata": {},
     "output_type": "execute_result"
    }
   ],
   "source": [
    "storage('256GB SSD +  256GB SSD')"
   ]
  },
  {
   "cell_type": "code",
   "execution_count": 50,
   "id": "bc807716",
   "metadata": {},
   "outputs": [
    {
     "data": {
      "text/plain": [
       "2048"
      ]
     },
     "execution_count": 50,
     "metadata": {},
     "output_type": "execute_result"
    }
   ],
   "source": [
    "storage('1.0TB HDD +  1TB HDD')"
   ]
  },
  {
   "cell_type": "markdown",
   "id": "7b5bcce5",
   "metadata": {},
   "source": [
    "It works well. For next step, we need to detect the storage tech. There are 3 storage type in our feature. They are HDD, SSD and Flash Storage. It is commonly known that SSDs and Flash are usually faster than HDD. They can be used alone or can be used collectively which is called 'Hybrid' in computer world. Hybrids are usually cheaper than pure SSD storage while faster and more expesive than pure HDD storage. "
   ]
  },
  {
   "cell_type": "code",
   "execution_count": 51,
   "id": "c459d304",
   "metadata": {},
   "outputs": [],
   "source": [
    "def storage_type(name):\n",
    "    storage = name.split()\n",
    "    tech = []\n",
    "    \n",
    "    for element in storage:\n",
    "        if element=='SSD' or element=='HDD' or element=='Flash':\n",
    "            tech.append(element)\n",
    "        elif element=='Hybrid':\n",
    "            tech.append(element)\n",
    "    \n",
    "    if len(tech) > 1:\n",
    "        return 'Hybrid'\n",
    "    else:\n",
    "        return tech[0]"
   ]
  },
  {
   "cell_type": "markdown",
   "id": "3c02a287",
   "metadata": {},
   "source": [
    "Let's try this function with some examples as well."
   ]
  },
  {
   "cell_type": "code",
   "execution_count": 52,
   "id": "8d6bffbe",
   "metadata": {},
   "outputs": [
    {
     "data": {
      "text/plain": [
       "'Hybrid'"
      ]
     },
     "execution_count": 52,
     "metadata": {},
     "output_type": "execute_result"
    }
   ],
   "source": [
    "storage_type('512GB SSD +  1.0TB Hybrid')"
   ]
  },
  {
   "cell_type": "code",
   "execution_count": 53,
   "id": "b0c6a0b8",
   "metadata": {},
   "outputs": [
    {
     "data": {
      "text/plain": [
       "'Hybrid'"
      ]
     },
     "execution_count": 53,
     "metadata": {},
     "output_type": "execute_result"
    }
   ],
   "source": [
    "storage_type('64GB Flash Storage +  1TB HDD')"
   ]
  },
  {
   "cell_type": "code",
   "execution_count": 54,
   "id": "71f863b4",
   "metadata": {},
   "outputs": [
    {
     "data": {
      "text/plain": [
       "'SSD'"
      ]
     },
     "execution_count": 54,
     "metadata": {},
     "output_type": "execute_result"
    }
   ],
   "source": [
    "storage_type('240GB SSD')"
   ]
  },
  {
   "cell_type": "markdown",
   "id": "39fa2afc",
   "metadata": {},
   "source": [
    "It is time to apply functions to dataset."
   ]
  },
  {
   "cell_type": "code",
   "execution_count": 55,
   "id": "b17a3c47",
   "metadata": {},
   "outputs": [],
   "source": [
    "df['Total_Storage'] = df['Memory'].apply(storage)\n",
    "df['Storage_Type'] = df['Memory'].apply(storage_type)"
   ]
  },
  {
   "cell_type": "code",
   "execution_count": 56,
   "id": "cbc612ec",
   "metadata": {},
   "outputs": [
    {
     "data": {
      "text/html": [
       "<div>\n",
       "<style scoped>\n",
       "    .dataframe tbody tr th:only-of-type {\n",
       "        vertical-align: middle;\n",
       "    }\n",
       "\n",
       "    .dataframe tbody tr th {\n",
       "        vertical-align: top;\n",
       "    }\n",
       "\n",
       "    .dataframe thead th {\n",
       "        text-align: right;\n",
       "    }\n",
       "</style>\n",
       "<table border=\"1\" class=\"dataframe\">\n",
       "  <thead>\n",
       "    <tr style=\"text-align: right;\">\n",
       "      <th></th>\n",
       "      <th>Company</th>\n",
       "      <th>TypeName</th>\n",
       "      <th>Inches</th>\n",
       "      <th>Ram</th>\n",
       "      <th>OpSys</th>\n",
       "      <th>Weight</th>\n",
       "      <th>Price_euros</th>\n",
       "      <th>ClockSpeed</th>\n",
       "      <th>Pixel</th>\n",
       "      <th>PPI</th>\n",
       "      <th>GPU_Brand</th>\n",
       "      <th>Total_Storage</th>\n",
       "      <th>Storage_Type</th>\n",
       "    </tr>\n",
       "    <tr>\n",
       "      <th>laptop_ID</th>\n",
       "      <th></th>\n",
       "      <th></th>\n",
       "      <th></th>\n",
       "      <th></th>\n",
       "      <th></th>\n",
       "      <th></th>\n",
       "      <th></th>\n",
       "      <th></th>\n",
       "      <th></th>\n",
       "      <th></th>\n",
       "      <th></th>\n",
       "      <th></th>\n",
       "      <th></th>\n",
       "    </tr>\n",
       "  </thead>\n",
       "  <tbody>\n",
       "    <tr>\n",
       "      <th>1</th>\n",
       "      <td>Apple</td>\n",
       "      <td>Ultrabook</td>\n",
       "      <td>13.3</td>\n",
       "      <td>8</td>\n",
       "      <td>macOS</td>\n",
       "      <td>1.37</td>\n",
       "      <td>1339.69</td>\n",
       "      <td>2.3</td>\n",
       "      <td>4096000</td>\n",
       "      <td>226.98</td>\n",
       "      <td>Intel</td>\n",
       "      <td>128</td>\n",
       "      <td>SSD</td>\n",
       "    </tr>\n",
       "    <tr>\n",
       "      <th>2</th>\n",
       "      <td>Apple</td>\n",
       "      <td>Ultrabook</td>\n",
       "      <td>13.3</td>\n",
       "      <td>8</td>\n",
       "      <td>macOS</td>\n",
       "      <td>1.34</td>\n",
       "      <td>898.94</td>\n",
       "      <td>1.8</td>\n",
       "      <td>1296000</td>\n",
       "      <td>127.68</td>\n",
       "      <td>Intel</td>\n",
       "      <td>128</td>\n",
       "      <td>Flash</td>\n",
       "    </tr>\n",
       "    <tr>\n",
       "      <th>3</th>\n",
       "      <td>HP</td>\n",
       "      <td>Notebook</td>\n",
       "      <td>15.6</td>\n",
       "      <td>8</td>\n",
       "      <td>No OS</td>\n",
       "      <td>1.86</td>\n",
       "      <td>575.00</td>\n",
       "      <td>2.5</td>\n",
       "      <td>2073600</td>\n",
       "      <td>141.21</td>\n",
       "      <td>Intel</td>\n",
       "      <td>256</td>\n",
       "      <td>SSD</td>\n",
       "    </tr>\n",
       "    <tr>\n",
       "      <th>4</th>\n",
       "      <td>Apple</td>\n",
       "      <td>Ultrabook</td>\n",
       "      <td>15.4</td>\n",
       "      <td>16</td>\n",
       "      <td>macOS</td>\n",
       "      <td>1.83</td>\n",
       "      <td>2537.45</td>\n",
       "      <td>2.7</td>\n",
       "      <td>5184000</td>\n",
       "      <td>220.53</td>\n",
       "      <td>AMD</td>\n",
       "      <td>512</td>\n",
       "      <td>SSD</td>\n",
       "    </tr>\n",
       "    <tr>\n",
       "      <th>5</th>\n",
       "      <td>Apple</td>\n",
       "      <td>Ultrabook</td>\n",
       "      <td>13.3</td>\n",
       "      <td>8</td>\n",
       "      <td>macOS</td>\n",
       "      <td>1.37</td>\n",
       "      <td>1803.60</td>\n",
       "      <td>3.1</td>\n",
       "      <td>4096000</td>\n",
       "      <td>226.98</td>\n",
       "      <td>Intel</td>\n",
       "      <td>256</td>\n",
       "      <td>SSD</td>\n",
       "    </tr>\n",
       "  </tbody>\n",
       "</table>\n",
       "</div>"
      ],
      "text/plain": [
       "          Company   TypeName  Inches  Ram  OpSys  Weight  Price_euros  \\\n",
       "laptop_ID                                                               \n",
       "1           Apple  Ultrabook    13.3    8  macOS    1.37      1339.69   \n",
       "2           Apple  Ultrabook    13.3    8  macOS    1.34       898.94   \n",
       "3              HP   Notebook    15.6    8  No OS    1.86       575.00   \n",
       "4           Apple  Ultrabook    15.4   16  macOS    1.83      2537.45   \n",
       "5           Apple  Ultrabook    13.3    8  macOS    1.37      1803.60   \n",
       "\n",
       "           ClockSpeed    Pixel     PPI GPU_Brand  Total_Storage Storage_Type  \n",
       "laptop_ID                                                                     \n",
       "1                 2.3  4096000  226.98     Intel            128          SSD  \n",
       "2                 1.8  1296000  127.68     Intel            128        Flash  \n",
       "3                 2.5  2073600  141.21     Intel            256          SSD  \n",
       "4                 2.7  5184000  220.53       AMD            512          SSD  \n",
       "5                 3.1  4096000  226.98     Intel            256          SSD  "
      ]
     },
     "execution_count": 56,
     "metadata": {},
     "output_type": "execute_result"
    }
   ],
   "source": [
    "df.drop('Memory',axis = 1, inplace=True)\n",
    "df.head()"
   ]
  },
  {
   "cell_type": "code",
   "execution_count": 57,
   "id": "5cc3e98f",
   "metadata": {},
   "outputs": [
    {
     "data": {
      "text/plain": [
       "Price_euros      1.000000\n",
       "Ram              0.743007\n",
       "Pixel            0.515486\n",
       "PPI              0.473506\n",
       "ClockSpeed       0.430293\n",
       "Weight           0.210370\n",
       "Total_Storage    0.157830\n",
       "Inches           0.068197\n",
       "Name: Price_euros, dtype: float64"
      ]
     },
     "execution_count": 57,
     "metadata": {},
     "output_type": "execute_result"
    }
   ],
   "source": [
    "df.corr()['Price_euros'].sort_values(ascending=False)"
   ]
  },
  {
   "cell_type": "markdown",
   "id": "90dc4428",
   "metadata": {},
   "source": [
    "Total_Storage has a slight influance on price but i am pretty sure that when combined with the Storage_Type, they hold valuable information for price."
   ]
  },
  {
   "cell_type": "code",
   "execution_count": 58,
   "id": "93a0feef",
   "metadata": {},
   "outputs": [
    {
     "data": {
      "text/plain": [
       "Windows 10      1072\n",
       "No OS             66\n",
       "Linux             62\n",
       "Windows 7         45\n",
       "Chrome OS         27\n",
       "macOS             13\n",
       "Mac OS X           8\n",
       "Windows 10 S       8\n",
       "Android            2\n",
       "Name: OpSys, dtype: int64"
      ]
     },
     "execution_count": 58,
     "metadata": {},
     "output_type": "execute_result"
    }
   ],
   "source": [
    "df['OpSys'].value_counts()"
   ]
  },
  {
   "cell_type": "code",
   "execution_count": 59,
   "id": "89da7dfe",
   "metadata": {},
   "outputs": [
    {
     "data": {
      "text/plain": [
       "Notebook              727\n",
       "Gaming                205\n",
       "Ultrabook             196\n",
       "2 in 1 Convertible    121\n",
       "Workstation            29\n",
       "Netbook                25\n",
       "Name: TypeName, dtype: int64"
      ]
     },
     "execution_count": 59,
     "metadata": {},
     "output_type": "execute_result"
    }
   ],
   "source": [
    "df['TypeName'].value_counts()"
   ]
  },
  {
   "cell_type": "markdown",
   "id": "aa87df54",
   "metadata": {},
   "source": [
    "We are pretty close to finish preprocessing. Let's turn categorical features to dummy variables."
   ]
  },
  {
   "cell_type": "code",
   "execution_count": 60,
   "id": "91fc9e4f",
   "metadata": {},
   "outputs": [],
   "source": [
    "df = df.join(pd.get_dummies(df.Company)).drop(['Company'],axis = 1)\n",
    "df = df.join(pd.get_dummies(df.TypeName)).drop(['TypeName'],axis = 1)\n",
    "df = df.join(pd.get_dummies(df.OpSys)).drop(['OpSys'],axis = 1)\n",
    "df = df.join(pd.get_dummies(df.Storage_Type)).drop(['Storage_Type'],axis = 1)\n",
    "df = df.join(pd.get_dummies(df.GPU_Brand)).drop(['GPU_Brand'],axis = 1)"
   ]
  },
  {
   "cell_type": "code",
   "execution_count": 61,
   "id": "6d2287c0",
   "metadata": {
    "scrolled": true
   },
   "outputs": [
    {
     "data": {
      "text/html": [
       "<div>\n",
       "<style scoped>\n",
       "    .dataframe tbody tr th:only-of-type {\n",
       "        vertical-align: middle;\n",
       "    }\n",
       "\n",
       "    .dataframe tbody tr th {\n",
       "        vertical-align: top;\n",
       "    }\n",
       "\n",
       "    .dataframe thead th {\n",
       "        text-align: right;\n",
       "    }\n",
       "</style>\n",
       "<table border=\"1\" class=\"dataframe\">\n",
       "  <thead>\n",
       "    <tr style=\"text-align: right;\">\n",
       "      <th></th>\n",
       "      <th>Inches</th>\n",
       "      <th>Ram</th>\n",
       "      <th>Weight</th>\n",
       "      <th>Price_euros</th>\n",
       "      <th>ClockSpeed</th>\n",
       "      <th>Pixel</th>\n",
       "      <th>PPI</th>\n",
       "      <th>Total_Storage</th>\n",
       "      <th>Acer</th>\n",
       "      <th>Apple</th>\n",
       "      <th>...</th>\n",
       "      <th>Windows 7</th>\n",
       "      <th>macOS</th>\n",
       "      <th>Flash</th>\n",
       "      <th>HDD</th>\n",
       "      <th>Hybrid</th>\n",
       "      <th>SSD</th>\n",
       "      <th>AMD</th>\n",
       "      <th>ARM</th>\n",
       "      <th>Intel</th>\n",
       "      <th>Nvidia</th>\n",
       "    </tr>\n",
       "    <tr>\n",
       "      <th>laptop_ID</th>\n",
       "      <th></th>\n",
       "      <th></th>\n",
       "      <th></th>\n",
       "      <th></th>\n",
       "      <th></th>\n",
       "      <th></th>\n",
       "      <th></th>\n",
       "      <th></th>\n",
       "      <th></th>\n",
       "      <th></th>\n",
       "      <th></th>\n",
       "      <th></th>\n",
       "      <th></th>\n",
       "      <th></th>\n",
       "      <th></th>\n",
       "      <th></th>\n",
       "      <th></th>\n",
       "      <th></th>\n",
       "      <th></th>\n",
       "      <th></th>\n",
       "      <th></th>\n",
       "    </tr>\n",
       "  </thead>\n",
       "  <tbody>\n",
       "    <tr>\n",
       "      <th>1</th>\n",
       "      <td>13.3</td>\n",
       "      <td>8</td>\n",
       "      <td>1.37</td>\n",
       "      <td>1339.69</td>\n",
       "      <td>2.3</td>\n",
       "      <td>4096000</td>\n",
       "      <td>226.98</td>\n",
       "      <td>128</td>\n",
       "      <td>0</td>\n",
       "      <td>1</td>\n",
       "      <td>...</td>\n",
       "      <td>0</td>\n",
       "      <td>1</td>\n",
       "      <td>0</td>\n",
       "      <td>0</td>\n",
       "      <td>0</td>\n",
       "      <td>1</td>\n",
       "      <td>0</td>\n",
       "      <td>0</td>\n",
       "      <td>1</td>\n",
       "      <td>0</td>\n",
       "    </tr>\n",
       "    <tr>\n",
       "      <th>2</th>\n",
       "      <td>13.3</td>\n",
       "      <td>8</td>\n",
       "      <td>1.34</td>\n",
       "      <td>898.94</td>\n",
       "      <td>1.8</td>\n",
       "      <td>1296000</td>\n",
       "      <td>127.68</td>\n",
       "      <td>128</td>\n",
       "      <td>0</td>\n",
       "      <td>1</td>\n",
       "      <td>...</td>\n",
       "      <td>0</td>\n",
       "      <td>1</td>\n",
       "      <td>1</td>\n",
       "      <td>0</td>\n",
       "      <td>0</td>\n",
       "      <td>0</td>\n",
       "      <td>0</td>\n",
       "      <td>0</td>\n",
       "      <td>1</td>\n",
       "      <td>0</td>\n",
       "    </tr>\n",
       "    <tr>\n",
       "      <th>3</th>\n",
       "      <td>15.6</td>\n",
       "      <td>8</td>\n",
       "      <td>1.86</td>\n",
       "      <td>575.00</td>\n",
       "      <td>2.5</td>\n",
       "      <td>2073600</td>\n",
       "      <td>141.21</td>\n",
       "      <td>256</td>\n",
       "      <td>0</td>\n",
       "      <td>0</td>\n",
       "      <td>...</td>\n",
       "      <td>0</td>\n",
       "      <td>0</td>\n",
       "      <td>0</td>\n",
       "      <td>0</td>\n",
       "      <td>0</td>\n",
       "      <td>1</td>\n",
       "      <td>0</td>\n",
       "      <td>0</td>\n",
       "      <td>1</td>\n",
       "      <td>0</td>\n",
       "    </tr>\n",
       "    <tr>\n",
       "      <th>4</th>\n",
       "      <td>15.4</td>\n",
       "      <td>16</td>\n",
       "      <td>1.83</td>\n",
       "      <td>2537.45</td>\n",
       "      <td>2.7</td>\n",
       "      <td>5184000</td>\n",
       "      <td>220.53</td>\n",
       "      <td>512</td>\n",
       "      <td>0</td>\n",
       "      <td>1</td>\n",
       "      <td>...</td>\n",
       "      <td>0</td>\n",
       "      <td>1</td>\n",
       "      <td>0</td>\n",
       "      <td>0</td>\n",
       "      <td>0</td>\n",
       "      <td>1</td>\n",
       "      <td>1</td>\n",
       "      <td>0</td>\n",
       "      <td>0</td>\n",
       "      <td>0</td>\n",
       "    </tr>\n",
       "    <tr>\n",
       "      <th>5</th>\n",
       "      <td>13.3</td>\n",
       "      <td>8</td>\n",
       "      <td>1.37</td>\n",
       "      <td>1803.60</td>\n",
       "      <td>3.1</td>\n",
       "      <td>4096000</td>\n",
       "      <td>226.98</td>\n",
       "      <td>256</td>\n",
       "      <td>0</td>\n",
       "      <td>1</td>\n",
       "      <td>...</td>\n",
       "      <td>0</td>\n",
       "      <td>1</td>\n",
       "      <td>0</td>\n",
       "      <td>0</td>\n",
       "      <td>0</td>\n",
       "      <td>1</td>\n",
       "      <td>0</td>\n",
       "      <td>0</td>\n",
       "      <td>1</td>\n",
       "      <td>0</td>\n",
       "    </tr>\n",
       "  </tbody>\n",
       "</table>\n",
       "<p>5 rows × 50 columns</p>\n",
       "</div>"
      ],
      "text/plain": [
       "           Inches  Ram  Weight  Price_euros  ClockSpeed    Pixel     PPI  \\\n",
       "laptop_ID                                                                  \n",
       "1            13.3    8    1.37      1339.69         2.3  4096000  226.98   \n",
       "2            13.3    8    1.34       898.94         1.8  1296000  127.68   \n",
       "3            15.6    8    1.86       575.00         2.5  2073600  141.21   \n",
       "4            15.4   16    1.83      2537.45         2.7  5184000  220.53   \n",
       "5            13.3    8    1.37      1803.60         3.1  4096000  226.98   \n",
       "\n",
       "           Total_Storage  Acer  Apple  ...  Windows 7  macOS  Flash  HDD  \\\n",
       "laptop_ID                              ...                                 \n",
       "1                    128     0      1  ...          0      1      0    0   \n",
       "2                    128     0      1  ...          0      1      1    0   \n",
       "3                    256     0      0  ...          0      0      0    0   \n",
       "4                    512     0      1  ...          0      1      0    0   \n",
       "5                    256     0      1  ...          0      1      0    0   \n",
       "\n",
       "           Hybrid  SSD  AMD  ARM  Intel  Nvidia  \n",
       "laptop_ID                                        \n",
       "1               0    1    0    0      1       0  \n",
       "2               0    0    0    0      1       0  \n",
       "3               0    1    0    0      1       0  \n",
       "4               0    1    1    0      0       0  \n",
       "5               0    1    0    0      1       0  \n",
       "\n",
       "[5 rows x 50 columns]"
      ]
     },
     "execution_count": 61,
     "metadata": {},
     "output_type": "execute_result"
    }
   ],
   "source": [
    "df.head()"
   ]
  },
  {
   "cell_type": "code",
   "execution_count": 62,
   "id": "810a9911",
   "metadata": {},
   "outputs": [
    {
     "data": {
      "text/plain": [
       "50"
      ]
     },
     "execution_count": 62,
     "metadata": {},
     "output_type": "execute_result"
    }
   ],
   "source": [
    "len(df.columns)"
   ]
  },
  {
   "cell_type": "markdown",
   "id": "ec49452a",
   "metadata": {},
   "source": [
    "50 columns? Phew! It is better to filter some to get a generalized model."
   ]
  },
  {
   "cell_type": "code",
   "execution_count": 63,
   "id": "f7772e8f",
   "metadata": {
    "scrolled": true
   },
   "outputs": [
    {
     "data": {
      "text/plain": [
       "Price_euros           1.000000\n",
       "Ram                   0.743007\n",
       "Pixel                 0.515486\n",
       "PPI                   0.473506\n",
       "ClockSpeed            0.430293\n",
       "Gaming                0.375789\n",
       "Nvidia                0.348797\n",
       "Hybrid                0.294630\n",
       "SSD                   0.264977\n",
       "Ultrabook             0.255658\n",
       "Workstation           0.249752\n",
       "Razer                 0.233756\n",
       "Weight                0.210370\n",
       "MSI                   0.180100\n",
       "Total_Storage         0.157830\n",
       "Windows 7             0.152381\n",
       "Windows 10            0.137048\n",
       "macOS                 0.089928\n",
       "Apple                 0.080688\n",
       "2 in 1 Convertible    0.072675\n",
       "Inches                0.068197\n",
       "LG                    0.067053\n",
       "Dell                  0.048509\n",
       "Microsoft             0.047562\n",
       "Toshiba               0.040339\n",
       "Google                0.038086\n",
       "Samsung               0.034584\n",
       "Windows 10 S          0.018312\n",
       "Huawei                0.016851\n",
       "Mac OS X              0.015656\n",
       "Xiaomi                0.000776\n",
       "Asus                 -0.010376\n",
       "ARM                  -0.018431\n",
       "Fujitsu              -0.027135\n",
       "Lenovo               -0.029007\n",
       "Android              -0.038700\n",
       "HP                   -0.041291\n",
       "Chuwi                -0.055646\n",
       "Vero                 -0.071972\n",
       "Mediacom             -0.087161\n",
       "Netbook              -0.097572\n",
       "Chrome OS            -0.118684\n",
       "Linux                -0.162060\n",
       "No OS                -0.177094\n",
       "Intel                -0.184205\n",
       "AMD                  -0.199415\n",
       "Acer                 -0.208349\n",
       "Flash                -0.216282\n",
       "HDD                  -0.425241\n",
       "Notebook             -0.549248\n",
       "Name: Price_euros, dtype: float64"
      ]
     },
     "execution_count": 63,
     "metadata": {},
     "output_type": "execute_result"
    }
   ],
   "source": [
    "df.corr()['Price_euros'].sort_values(ascending=False)"
   ]
  },
  {
   "cell_type": "markdown",
   "id": "fa270afd",
   "metadata": {},
   "source": [
    " Some features can have a negative correlation as above. Therefore, we must filter the features according to their absolute correlation."
   ]
  },
  {
   "cell_type": "code",
   "execution_count": 64,
   "id": "0991bbd6",
   "metadata": {
    "scrolled": true
   },
   "outputs": [
    {
     "data": {
      "text/plain": [
       "Price_euros           1.000000\n",
       "Ram                   0.743007\n",
       "Notebook              0.549248\n",
       "Pixel                 0.515486\n",
       "PPI                   0.473506\n",
       "ClockSpeed            0.430293\n",
       "HDD                   0.425241\n",
       "Gaming                0.375789\n",
       "Nvidia                0.348797\n",
       "Hybrid                0.294630\n",
       "SSD                   0.264977\n",
       "Ultrabook             0.255658\n",
       "Workstation           0.249752\n",
       "Razer                 0.233756\n",
       "Flash                 0.216282\n",
       "Weight                0.210370\n",
       "Acer                  0.208349\n",
       "AMD                   0.199415\n",
       "Intel                 0.184205\n",
       "MSI                   0.180100\n",
       "No OS                 0.177094\n",
       "Linux                 0.162060\n",
       "Total_Storage         0.157830\n",
       "Windows 7             0.152381\n",
       "Windows 10            0.137048\n",
       "Chrome OS             0.118684\n",
       "Netbook               0.097572\n",
       "macOS                 0.089928\n",
       "Mediacom              0.087161\n",
       "Apple                 0.080688\n",
       "2 in 1 Convertible    0.072675\n",
       "Vero                  0.071972\n",
       "Inches                0.068197\n",
       "LG                    0.067053\n",
       "Chuwi                 0.055646\n",
       "Dell                  0.048509\n",
       "Microsoft             0.047562\n",
       "HP                    0.041291\n",
       "Toshiba               0.040339\n",
       "Android               0.038700\n",
       "Google                0.038086\n",
       "Samsung               0.034584\n",
       "Lenovo                0.029007\n",
       "Fujitsu               0.027135\n",
       "ARM                   0.018431\n",
       "Windows 10 S          0.018312\n",
       "Huawei                0.016851\n",
       "Mac OS X              0.015656\n",
       "Asus                  0.010376\n",
       "Xiaomi                0.000776\n",
       "Name: Price_euros, dtype: float64"
      ]
     },
     "execution_count": 64,
     "metadata": {},
     "output_type": "execute_result"
    }
   ],
   "source": [
    "correlated_features = abs(df.corr()['Price_euros']).sort_values(ascending=False)\n",
    "correlated_features"
   ]
  },
  {
   "cell_type": "code",
   "execution_count": 65,
   "id": "6950a22b",
   "metadata": {},
   "outputs": [
    {
     "data": {
      "text/plain": [
       "Index(['Price_euros', 'Ram', 'Notebook', 'Pixel', 'PPI', 'ClockSpeed', 'HDD',\n",
       "       'Gaming', 'Nvidia', 'Hybrid', 'SSD', 'Ultrabook', 'Workstation',\n",
       "       'Razer', 'Flash', 'Weight', 'Acer', 'AMD', 'Intel', 'MSI', 'No OS',\n",
       "       'Linux', 'Total_Storage', 'Windows 7', 'Windows 10', 'Chrome OS'],\n",
       "      dtype='object')"
      ]
     },
     "execution_count": 65,
     "metadata": {},
     "output_type": "execute_result"
    }
   ],
   "source": [
    "selected_features = correlated_features[:26].index\n",
    "selected_features"
   ]
  },
  {
   "cell_type": "code",
   "execution_count": 66,
   "id": "5cea3da6",
   "metadata": {},
   "outputs": [],
   "source": [
    "df = df[selected_features]"
   ]
  },
  {
   "cell_type": "markdown",
   "id": "3522049c",
   "metadata": {},
   "source": [
    "We filtered most important 25 features in the dataframe."
   ]
  },
  {
   "cell_type": "code",
   "execution_count": 67,
   "id": "55198b9b",
   "metadata": {
    "scrolled": true
   },
   "outputs": [
    {
     "data": {
      "text/html": [
       "<div>\n",
       "<style scoped>\n",
       "    .dataframe tbody tr th:only-of-type {\n",
       "        vertical-align: middle;\n",
       "    }\n",
       "\n",
       "    .dataframe tbody tr th {\n",
       "        vertical-align: top;\n",
       "    }\n",
       "\n",
       "    .dataframe thead th {\n",
       "        text-align: right;\n",
       "    }\n",
       "</style>\n",
       "<table border=\"1\" class=\"dataframe\">\n",
       "  <thead>\n",
       "    <tr style=\"text-align: right;\">\n",
       "      <th></th>\n",
       "      <th>Price_euros</th>\n",
       "      <th>Ram</th>\n",
       "      <th>Notebook</th>\n",
       "      <th>Pixel</th>\n",
       "      <th>PPI</th>\n",
       "      <th>ClockSpeed</th>\n",
       "      <th>HDD</th>\n",
       "      <th>Gaming</th>\n",
       "      <th>Nvidia</th>\n",
       "      <th>Hybrid</th>\n",
       "      <th>...</th>\n",
       "      <th>Acer</th>\n",
       "      <th>AMD</th>\n",
       "      <th>Intel</th>\n",
       "      <th>MSI</th>\n",
       "      <th>No OS</th>\n",
       "      <th>Linux</th>\n",
       "      <th>Total_Storage</th>\n",
       "      <th>Windows 7</th>\n",
       "      <th>Windows 10</th>\n",
       "      <th>Chrome OS</th>\n",
       "    </tr>\n",
       "    <tr>\n",
       "      <th>laptop_ID</th>\n",
       "      <th></th>\n",
       "      <th></th>\n",
       "      <th></th>\n",
       "      <th></th>\n",
       "      <th></th>\n",
       "      <th></th>\n",
       "      <th></th>\n",
       "      <th></th>\n",
       "      <th></th>\n",
       "      <th></th>\n",
       "      <th></th>\n",
       "      <th></th>\n",
       "      <th></th>\n",
       "      <th></th>\n",
       "      <th></th>\n",
       "      <th></th>\n",
       "      <th></th>\n",
       "      <th></th>\n",
       "      <th></th>\n",
       "      <th></th>\n",
       "      <th></th>\n",
       "    </tr>\n",
       "  </thead>\n",
       "  <tbody>\n",
       "    <tr>\n",
       "      <th>1</th>\n",
       "      <td>1339.69</td>\n",
       "      <td>8</td>\n",
       "      <td>0</td>\n",
       "      <td>4096000</td>\n",
       "      <td>226.98</td>\n",
       "      <td>2.3</td>\n",
       "      <td>0</td>\n",
       "      <td>0</td>\n",
       "      <td>0</td>\n",
       "      <td>0</td>\n",
       "      <td>...</td>\n",
       "      <td>0</td>\n",
       "      <td>0</td>\n",
       "      <td>1</td>\n",
       "      <td>0</td>\n",
       "      <td>0</td>\n",
       "      <td>0</td>\n",
       "      <td>128</td>\n",
       "      <td>0</td>\n",
       "      <td>0</td>\n",
       "      <td>0</td>\n",
       "    </tr>\n",
       "    <tr>\n",
       "      <th>2</th>\n",
       "      <td>898.94</td>\n",
       "      <td>8</td>\n",
       "      <td>0</td>\n",
       "      <td>1296000</td>\n",
       "      <td>127.68</td>\n",
       "      <td>1.8</td>\n",
       "      <td>0</td>\n",
       "      <td>0</td>\n",
       "      <td>0</td>\n",
       "      <td>0</td>\n",
       "      <td>...</td>\n",
       "      <td>0</td>\n",
       "      <td>0</td>\n",
       "      <td>1</td>\n",
       "      <td>0</td>\n",
       "      <td>0</td>\n",
       "      <td>0</td>\n",
       "      <td>128</td>\n",
       "      <td>0</td>\n",
       "      <td>0</td>\n",
       "      <td>0</td>\n",
       "    </tr>\n",
       "    <tr>\n",
       "      <th>3</th>\n",
       "      <td>575.00</td>\n",
       "      <td>8</td>\n",
       "      <td>1</td>\n",
       "      <td>2073600</td>\n",
       "      <td>141.21</td>\n",
       "      <td>2.5</td>\n",
       "      <td>0</td>\n",
       "      <td>0</td>\n",
       "      <td>0</td>\n",
       "      <td>0</td>\n",
       "      <td>...</td>\n",
       "      <td>0</td>\n",
       "      <td>0</td>\n",
       "      <td>1</td>\n",
       "      <td>0</td>\n",
       "      <td>1</td>\n",
       "      <td>0</td>\n",
       "      <td>256</td>\n",
       "      <td>0</td>\n",
       "      <td>0</td>\n",
       "      <td>0</td>\n",
       "    </tr>\n",
       "    <tr>\n",
       "      <th>4</th>\n",
       "      <td>2537.45</td>\n",
       "      <td>16</td>\n",
       "      <td>0</td>\n",
       "      <td>5184000</td>\n",
       "      <td>220.53</td>\n",
       "      <td>2.7</td>\n",
       "      <td>0</td>\n",
       "      <td>0</td>\n",
       "      <td>0</td>\n",
       "      <td>0</td>\n",
       "      <td>...</td>\n",
       "      <td>0</td>\n",
       "      <td>1</td>\n",
       "      <td>0</td>\n",
       "      <td>0</td>\n",
       "      <td>0</td>\n",
       "      <td>0</td>\n",
       "      <td>512</td>\n",
       "      <td>0</td>\n",
       "      <td>0</td>\n",
       "      <td>0</td>\n",
       "    </tr>\n",
       "    <tr>\n",
       "      <th>5</th>\n",
       "      <td>1803.60</td>\n",
       "      <td>8</td>\n",
       "      <td>0</td>\n",
       "      <td>4096000</td>\n",
       "      <td>226.98</td>\n",
       "      <td>3.1</td>\n",
       "      <td>0</td>\n",
       "      <td>0</td>\n",
       "      <td>0</td>\n",
       "      <td>0</td>\n",
       "      <td>...</td>\n",
       "      <td>0</td>\n",
       "      <td>0</td>\n",
       "      <td>1</td>\n",
       "      <td>0</td>\n",
       "      <td>0</td>\n",
       "      <td>0</td>\n",
       "      <td>256</td>\n",
       "      <td>0</td>\n",
       "      <td>0</td>\n",
       "      <td>0</td>\n",
       "    </tr>\n",
       "    <tr>\n",
       "      <th>...</th>\n",
       "      <td>...</td>\n",
       "      <td>...</td>\n",
       "      <td>...</td>\n",
       "      <td>...</td>\n",
       "      <td>...</td>\n",
       "      <td>...</td>\n",
       "      <td>...</td>\n",
       "      <td>...</td>\n",
       "      <td>...</td>\n",
       "      <td>...</td>\n",
       "      <td>...</td>\n",
       "      <td>...</td>\n",
       "      <td>...</td>\n",
       "      <td>...</td>\n",
       "      <td>...</td>\n",
       "      <td>...</td>\n",
       "      <td>...</td>\n",
       "      <td>...</td>\n",
       "      <td>...</td>\n",
       "      <td>...</td>\n",
       "      <td>...</td>\n",
       "    </tr>\n",
       "    <tr>\n",
       "      <th>1316</th>\n",
       "      <td>638.00</td>\n",
       "      <td>4</td>\n",
       "      <td>0</td>\n",
       "      <td>2073600</td>\n",
       "      <td>157.35</td>\n",
       "      <td>2.5</td>\n",
       "      <td>0</td>\n",
       "      <td>0</td>\n",
       "      <td>0</td>\n",
       "      <td>0</td>\n",
       "      <td>...</td>\n",
       "      <td>0</td>\n",
       "      <td>0</td>\n",
       "      <td>1</td>\n",
       "      <td>0</td>\n",
       "      <td>0</td>\n",
       "      <td>0</td>\n",
       "      <td>128</td>\n",
       "      <td>0</td>\n",
       "      <td>1</td>\n",
       "      <td>0</td>\n",
       "    </tr>\n",
       "    <tr>\n",
       "      <th>1317</th>\n",
       "      <td>1499.00</td>\n",
       "      <td>16</td>\n",
       "      <td>0</td>\n",
       "      <td>5760000</td>\n",
       "      <td>276.05</td>\n",
       "      <td>2.5</td>\n",
       "      <td>0</td>\n",
       "      <td>0</td>\n",
       "      <td>0</td>\n",
       "      <td>0</td>\n",
       "      <td>...</td>\n",
       "      <td>0</td>\n",
       "      <td>0</td>\n",
       "      <td>1</td>\n",
       "      <td>0</td>\n",
       "      <td>0</td>\n",
       "      <td>0</td>\n",
       "      <td>512</td>\n",
       "      <td>0</td>\n",
       "      <td>1</td>\n",
       "      <td>0</td>\n",
       "    </tr>\n",
       "    <tr>\n",
       "      <th>1318</th>\n",
       "      <td>229.00</td>\n",
       "      <td>2</td>\n",
       "      <td>1</td>\n",
       "      <td>1049088</td>\n",
       "      <td>111.94</td>\n",
       "      <td>1.6</td>\n",
       "      <td>0</td>\n",
       "      <td>0</td>\n",
       "      <td>0</td>\n",
       "      <td>0</td>\n",
       "      <td>...</td>\n",
       "      <td>0</td>\n",
       "      <td>0</td>\n",
       "      <td>1</td>\n",
       "      <td>0</td>\n",
       "      <td>0</td>\n",
       "      <td>0</td>\n",
       "      <td>64</td>\n",
       "      <td>0</td>\n",
       "      <td>1</td>\n",
       "      <td>0</td>\n",
       "    </tr>\n",
       "    <tr>\n",
       "      <th>1319</th>\n",
       "      <td>764.00</td>\n",
       "      <td>6</td>\n",
       "      <td>1</td>\n",
       "      <td>1049088</td>\n",
       "      <td>100.45</td>\n",
       "      <td>2.5</td>\n",
       "      <td>1</td>\n",
       "      <td>0</td>\n",
       "      <td>0</td>\n",
       "      <td>0</td>\n",
       "      <td>...</td>\n",
       "      <td>0</td>\n",
       "      <td>1</td>\n",
       "      <td>0</td>\n",
       "      <td>0</td>\n",
       "      <td>0</td>\n",
       "      <td>0</td>\n",
       "      <td>1024</td>\n",
       "      <td>0</td>\n",
       "      <td>1</td>\n",
       "      <td>0</td>\n",
       "    </tr>\n",
       "    <tr>\n",
       "      <th>1320</th>\n",
       "      <td>369.00</td>\n",
       "      <td>4</td>\n",
       "      <td>1</td>\n",
       "      <td>1049088</td>\n",
       "      <td>100.45</td>\n",
       "      <td>1.6</td>\n",
       "      <td>1</td>\n",
       "      <td>0</td>\n",
       "      <td>0</td>\n",
       "      <td>0</td>\n",
       "      <td>...</td>\n",
       "      <td>0</td>\n",
       "      <td>0</td>\n",
       "      <td>1</td>\n",
       "      <td>0</td>\n",
       "      <td>0</td>\n",
       "      <td>0</td>\n",
       "      <td>500</td>\n",
       "      <td>0</td>\n",
       "      <td>1</td>\n",
       "      <td>0</td>\n",
       "    </tr>\n",
       "  </tbody>\n",
       "</table>\n",
       "<p>1303 rows × 26 columns</p>\n",
       "</div>"
      ],
      "text/plain": [
       "           Price_euros  Ram  Notebook    Pixel     PPI  ClockSpeed  HDD  \\\n",
       "laptop_ID                                                                 \n",
       "1              1339.69    8         0  4096000  226.98         2.3    0   \n",
       "2               898.94    8         0  1296000  127.68         1.8    0   \n",
       "3               575.00    8         1  2073600  141.21         2.5    0   \n",
       "4              2537.45   16         0  5184000  220.53         2.7    0   \n",
       "5              1803.60    8         0  4096000  226.98         3.1    0   \n",
       "...                ...  ...       ...      ...     ...         ...  ...   \n",
       "1316            638.00    4         0  2073600  157.35         2.5    0   \n",
       "1317           1499.00   16         0  5760000  276.05         2.5    0   \n",
       "1318            229.00    2         1  1049088  111.94         1.6    0   \n",
       "1319            764.00    6         1  1049088  100.45         2.5    1   \n",
       "1320            369.00    4         1  1049088  100.45         1.6    1   \n",
       "\n",
       "           Gaming  Nvidia  Hybrid  ...  Acer  AMD  Intel  MSI  No OS  Linux  \\\n",
       "laptop_ID                          ...                                        \n",
       "1               0       0       0  ...     0    0      1    0      0      0   \n",
       "2               0       0       0  ...     0    0      1    0      0      0   \n",
       "3               0       0       0  ...     0    0      1    0      1      0   \n",
       "4               0       0       0  ...     0    1      0    0      0      0   \n",
       "5               0       0       0  ...     0    0      1    0      0      0   \n",
       "...           ...     ...     ...  ...   ...  ...    ...  ...    ...    ...   \n",
       "1316            0       0       0  ...     0    0      1    0      0      0   \n",
       "1317            0       0       0  ...     0    0      1    0      0      0   \n",
       "1318            0       0       0  ...     0    0      1    0      0      0   \n",
       "1319            0       0       0  ...     0    1      0    0      0      0   \n",
       "1320            0       0       0  ...     0    0      1    0      0      0   \n",
       "\n",
       "           Total_Storage  Windows 7  Windows 10  Chrome OS  \n",
       "laptop_ID                                                   \n",
       "1                    128          0           0          0  \n",
       "2                    128          0           0          0  \n",
       "3                    256          0           0          0  \n",
       "4                    512          0           0          0  \n",
       "5                    256          0           0          0  \n",
       "...                  ...        ...         ...        ...  \n",
       "1316                 128          0           1          0  \n",
       "1317                 512          0           1          0  \n",
       "1318                  64          0           1          0  \n",
       "1319                1024          0           1          0  \n",
       "1320                 500          0           1          0  \n",
       "\n",
       "[1303 rows x 26 columns]"
      ]
     },
     "execution_count": 67,
     "metadata": {},
     "output_type": "execute_result"
    }
   ],
   "source": [
    "df"
   ]
  },
  {
   "cell_type": "markdown",
   "id": "a5d9548d",
   "metadata": {},
   "source": [
    "Now, we are done with preprocessing. It is time for separeting the dataframe to input and target vectors."
   ]
  },
  {
   "cell_type": "code",
   "execution_count": 68,
   "id": "24301a35",
   "metadata": {},
   "outputs": [],
   "source": [
    "X = df.drop('Price_euros',axis = 1)\n",
    "y = df['Price_euros']"
   ]
  },
  {
   "cell_type": "code",
   "execution_count": 69,
   "id": "b0b48ceb",
   "metadata": {},
   "outputs": [
    {
     "data": {
      "text/plain": [
       "Index(['Ram', 'Notebook', 'Pixel', 'PPI', 'ClockSpeed', 'HDD', 'Gaming',\n",
       "       'Nvidia', 'Hybrid', 'SSD', 'Ultrabook', 'Workstation', 'Razer', 'Flash',\n",
       "       'Weight', 'Acer', 'AMD', 'Intel', 'MSI', 'No OS', 'Linux',\n",
       "       'Total_Storage', 'Windows 7', 'Windows 10', 'Chrome OS'],\n",
       "      dtype='object')"
      ]
     },
     "execution_count": 69,
     "metadata": {},
     "output_type": "execute_result"
    }
   ],
   "source": [
    "X.columns"
   ]
  },
  {
   "cell_type": "code",
   "execution_count": 70,
   "id": "1b109ebb",
   "metadata": {},
   "outputs": [
    {
     "data": {
      "text/plain": [
       "laptop_ID\n",
       "1       1339.69\n",
       "2        898.94\n",
       "3        575.00\n",
       "4       2537.45\n",
       "5       1803.60\n",
       "         ...   \n",
       "1316     638.00\n",
       "1317    1499.00\n",
       "1318     229.00\n",
       "1319     764.00\n",
       "1320     369.00\n",
       "Name: Price_euros, Length: 1303, dtype: float64"
      ]
     },
     "execution_count": 70,
     "metadata": {},
     "output_type": "execute_result"
    }
   ],
   "source": [
    "y"
   ]
  },
  {
   "cell_type": "markdown",
   "id": "7f8fe034",
   "metadata": {},
   "source": [
    "To reach optimum weights, scaling input variables is crucial. For scaling, standard scaler is prefered in this study. "
   ]
  },
  {
   "cell_type": "code",
   "execution_count": 71,
   "id": "703e5368",
   "metadata": {},
   "outputs": [],
   "source": [
    "continues_features = ['Ram','Weight','ClockSpeed','Pixel','PPI','Total_Storage']"
   ]
  },
  {
   "cell_type": "markdown",
   "id": "457cee4c",
   "metadata": {},
   "source": [
    "There is no need to scale dummy variables because their range is already 0 and 1."
   ]
  },
  {
   "cell_type": "code",
   "execution_count": 72,
   "id": "5dcf4edf",
   "metadata": {},
   "outputs": [],
   "source": [
    "from sklearn.preprocessing import StandardScaler\n",
    "scaler = StandardScaler()\n",
    "X[continues_features] = scaler.fit_transform(X[continues_features])"
   ]
  },
  {
   "cell_type": "code",
   "execution_count": 73,
   "id": "a4889599",
   "metadata": {},
   "outputs": [
    {
     "data": {
      "text/html": [
       "<div>\n",
       "<style scoped>\n",
       "    .dataframe tbody tr th:only-of-type {\n",
       "        vertical-align: middle;\n",
       "    }\n",
       "\n",
       "    .dataframe tbody tr th {\n",
       "        vertical-align: top;\n",
       "    }\n",
       "\n",
       "    .dataframe thead th {\n",
       "        text-align: right;\n",
       "    }\n",
       "</style>\n",
       "<table border=\"1\" class=\"dataframe\">\n",
       "  <thead>\n",
       "    <tr style=\"text-align: right;\">\n",
       "      <th></th>\n",
       "      <th>Ram</th>\n",
       "      <th>Notebook</th>\n",
       "      <th>Pixel</th>\n",
       "      <th>PPI</th>\n",
       "      <th>ClockSpeed</th>\n",
       "      <th>HDD</th>\n",
       "      <th>Gaming</th>\n",
       "      <th>Nvidia</th>\n",
       "      <th>Hybrid</th>\n",
       "      <th>SSD</th>\n",
       "      <th>...</th>\n",
       "      <th>Acer</th>\n",
       "      <th>AMD</th>\n",
       "      <th>Intel</th>\n",
       "      <th>MSI</th>\n",
       "      <th>No OS</th>\n",
       "      <th>Linux</th>\n",
       "      <th>Total_Storage</th>\n",
       "      <th>Windows 7</th>\n",
       "      <th>Windows 10</th>\n",
       "      <th>Chrome OS</th>\n",
       "    </tr>\n",
       "    <tr>\n",
       "      <th>laptop_ID</th>\n",
       "      <th></th>\n",
       "      <th></th>\n",
       "      <th></th>\n",
       "      <th></th>\n",
       "      <th></th>\n",
       "      <th></th>\n",
       "      <th></th>\n",
       "      <th></th>\n",
       "      <th></th>\n",
       "      <th></th>\n",
       "      <th></th>\n",
       "      <th></th>\n",
       "      <th></th>\n",
       "      <th></th>\n",
       "      <th></th>\n",
       "      <th></th>\n",
       "      <th></th>\n",
       "      <th></th>\n",
       "      <th></th>\n",
       "      <th></th>\n",
       "      <th></th>\n",
       "    </tr>\n",
       "  </thead>\n",
       "  <tbody>\n",
       "    <tr>\n",
       "      <th>1</th>\n",
       "      <td>-0.075195</td>\n",
       "      <td>0</td>\n",
       "      <td>1.385714</td>\n",
       "      <td>1.863955</td>\n",
       "      <td>0.002426</td>\n",
       "      <td>0</td>\n",
       "      <td>0</td>\n",
       "      <td>0</td>\n",
       "      <td>0</td>\n",
       "      <td>1</td>\n",
       "      <td>...</td>\n",
       "      <td>0</td>\n",
       "      <td>0</td>\n",
       "      <td>1</td>\n",
       "      <td>0</td>\n",
       "      <td>0</td>\n",
       "      <td>0</td>\n",
       "      <td>-1.026162</td>\n",
       "      <td>0</td>\n",
       "      <td>0</td>\n",
       "      <td>0</td>\n",
       "    </tr>\n",
       "    <tr>\n",
       "      <th>2</th>\n",
       "      <td>-0.075195</td>\n",
       "      <td>0</td>\n",
       "      <td>-0.627576</td>\n",
       "      <td>-0.439733</td>\n",
       "      <td>-0.985431</td>\n",
       "      <td>0</td>\n",
       "      <td>0</td>\n",
       "      <td>0</td>\n",
       "      <td>0</td>\n",
       "      <td>0</td>\n",
       "      <td>...</td>\n",
       "      <td>0</td>\n",
       "      <td>0</td>\n",
       "      <td>1</td>\n",
       "      <td>0</td>\n",
       "      <td>0</td>\n",
       "      <td>0</td>\n",
       "      <td>-1.026162</td>\n",
       "      <td>0</td>\n",
       "      <td>0</td>\n",
       "      <td>0</td>\n",
       "    </tr>\n",
       "    <tr>\n",
       "      <th>3</th>\n",
       "      <td>-0.075195</td>\n",
       "      <td>1</td>\n",
       "      <td>-0.068457</td>\n",
       "      <td>-0.125847</td>\n",
       "      <td>0.397569</td>\n",
       "      <td>0</td>\n",
       "      <td>0</td>\n",
       "      <td>0</td>\n",
       "      <td>0</td>\n",
       "      <td>1</td>\n",
       "      <td>...</td>\n",
       "      <td>0</td>\n",
       "      <td>0</td>\n",
       "      <td>1</td>\n",
       "      <td>0</td>\n",
       "      <td>1</td>\n",
       "      <td>0</td>\n",
       "      <td>-0.759244</td>\n",
       "      <td>0</td>\n",
       "      <td>0</td>\n",
       "      <td>0</td>\n",
       "    </tr>\n",
       "    <tr>\n",
       "      <th>4</th>\n",
       "      <td>1.498767</td>\n",
       "      <td>0</td>\n",
       "      <td>2.168021</td>\n",
       "      <td>1.714320</td>\n",
       "      <td>0.792712</td>\n",
       "      <td>0</td>\n",
       "      <td>0</td>\n",
       "      <td>0</td>\n",
       "      <td>0</td>\n",
       "      <td>1</td>\n",
       "      <td>...</td>\n",
       "      <td>0</td>\n",
       "      <td>1</td>\n",
       "      <td>0</td>\n",
       "      <td>0</td>\n",
       "      <td>0</td>\n",
       "      <td>0</td>\n",
       "      <td>-0.225410</td>\n",
       "      <td>0</td>\n",
       "      <td>0</td>\n",
       "      <td>0</td>\n",
       "    </tr>\n",
       "    <tr>\n",
       "      <th>5</th>\n",
       "      <td>-0.075195</td>\n",
       "      <td>0</td>\n",
       "      <td>1.385714</td>\n",
       "      <td>1.863955</td>\n",
       "      <td>1.582997</td>\n",
       "      <td>0</td>\n",
       "      <td>0</td>\n",
       "      <td>0</td>\n",
       "      <td>0</td>\n",
       "      <td>1</td>\n",
       "      <td>...</td>\n",
       "      <td>0</td>\n",
       "      <td>0</td>\n",
       "      <td>1</td>\n",
       "      <td>0</td>\n",
       "      <td>0</td>\n",
       "      <td>0</td>\n",
       "      <td>-0.759244</td>\n",
       "      <td>0</td>\n",
       "      <td>0</td>\n",
       "      <td>0</td>\n",
       "    </tr>\n",
       "    <tr>\n",
       "      <th>...</th>\n",
       "      <td>...</td>\n",
       "      <td>...</td>\n",
       "      <td>...</td>\n",
       "      <td>...</td>\n",
       "      <td>...</td>\n",
       "      <td>...</td>\n",
       "      <td>...</td>\n",
       "      <td>...</td>\n",
       "      <td>...</td>\n",
       "      <td>...</td>\n",
       "      <td>...</td>\n",
       "      <td>...</td>\n",
       "      <td>...</td>\n",
       "      <td>...</td>\n",
       "      <td>...</td>\n",
       "      <td>...</td>\n",
       "      <td>...</td>\n",
       "      <td>...</td>\n",
       "      <td>...</td>\n",
       "      <td>...</td>\n",
       "      <td>...</td>\n",
       "    </tr>\n",
       "    <tr>\n",
       "      <th>1316</th>\n",
       "      <td>-0.862176</td>\n",
       "      <td>0</td>\n",
       "      <td>-0.068457</td>\n",
       "      <td>0.248590</td>\n",
       "      <td>0.397569</td>\n",
       "      <td>0</td>\n",
       "      <td>0</td>\n",
       "      <td>0</td>\n",
       "      <td>0</td>\n",
       "      <td>1</td>\n",
       "      <td>...</td>\n",
       "      <td>0</td>\n",
       "      <td>0</td>\n",
       "      <td>1</td>\n",
       "      <td>0</td>\n",
       "      <td>0</td>\n",
       "      <td>0</td>\n",
       "      <td>-1.026162</td>\n",
       "      <td>0</td>\n",
       "      <td>1</td>\n",
       "      <td>0</td>\n",
       "    </tr>\n",
       "    <tr>\n",
       "      <th>1317</th>\n",
       "      <td>1.498767</td>\n",
       "      <td>0</td>\n",
       "      <td>2.582183</td>\n",
       "      <td>3.002344</td>\n",
       "      <td>0.397569</td>\n",
       "      <td>0</td>\n",
       "      <td>0</td>\n",
       "      <td>0</td>\n",
       "      <td>0</td>\n",
       "      <td>1</td>\n",
       "      <td>...</td>\n",
       "      <td>0</td>\n",
       "      <td>0</td>\n",
       "      <td>1</td>\n",
       "      <td>0</td>\n",
       "      <td>0</td>\n",
       "      <td>0</td>\n",
       "      <td>-0.225410</td>\n",
       "      <td>0</td>\n",
       "      <td>1</td>\n",
       "      <td>0</td>\n",
       "    </tr>\n",
       "    <tr>\n",
       "      <th>1318</th>\n",
       "      <td>-1.255667</td>\n",
       "      <td>1</td>\n",
       "      <td>-0.805114</td>\n",
       "      <td>-0.804889</td>\n",
       "      <td>-1.380574</td>\n",
       "      <td>0</td>\n",
       "      <td>0</td>\n",
       "      <td>0</td>\n",
       "      <td>0</td>\n",
       "      <td>0</td>\n",
       "      <td>...</td>\n",
       "      <td>0</td>\n",
       "      <td>0</td>\n",
       "      <td>1</td>\n",
       "      <td>0</td>\n",
       "      <td>0</td>\n",
       "      <td>0</td>\n",
       "      <td>-1.159620</td>\n",
       "      <td>0</td>\n",
       "      <td>1</td>\n",
       "      <td>0</td>\n",
       "    </tr>\n",
       "    <tr>\n",
       "      <th>1319</th>\n",
       "      <td>-0.468686</td>\n",
       "      <td>1</td>\n",
       "      <td>-0.805114</td>\n",
       "      <td>-1.071449</td>\n",
       "      <td>0.397569</td>\n",
       "      <td>1</td>\n",
       "      <td>0</td>\n",
       "      <td>0</td>\n",
       "      <td>0</td>\n",
       "      <td>0</td>\n",
       "      <td>...</td>\n",
       "      <td>0</td>\n",
       "      <td>1</td>\n",
       "      <td>0</td>\n",
       "      <td>0</td>\n",
       "      <td>0</td>\n",
       "      <td>0</td>\n",
       "      <td>0.842259</td>\n",
       "      <td>0</td>\n",
       "      <td>1</td>\n",
       "      <td>0</td>\n",
       "    </tr>\n",
       "    <tr>\n",
       "      <th>1320</th>\n",
       "      <td>-0.862176</td>\n",
       "      <td>1</td>\n",
       "      <td>-0.805114</td>\n",
       "      <td>-1.071449</td>\n",
       "      <td>-1.380574</td>\n",
       "      <td>1</td>\n",
       "      <td>0</td>\n",
       "      <td>0</td>\n",
       "      <td>0</td>\n",
       "      <td>0</td>\n",
       "      <td>...</td>\n",
       "      <td>0</td>\n",
       "      <td>0</td>\n",
       "      <td>1</td>\n",
       "      <td>0</td>\n",
       "      <td>0</td>\n",
       "      <td>0</td>\n",
       "      <td>-0.250433</td>\n",
       "      <td>0</td>\n",
       "      <td>1</td>\n",
       "      <td>0</td>\n",
       "    </tr>\n",
       "  </tbody>\n",
       "</table>\n",
       "<p>1303 rows × 25 columns</p>\n",
       "</div>"
      ],
      "text/plain": [
       "                Ram  Notebook     Pixel       PPI  ClockSpeed  HDD  Gaming  \\\n",
       "laptop_ID                                                                    \n",
       "1         -0.075195         0  1.385714  1.863955    0.002426    0       0   \n",
       "2         -0.075195         0 -0.627576 -0.439733   -0.985431    0       0   \n",
       "3         -0.075195         1 -0.068457 -0.125847    0.397569    0       0   \n",
       "4          1.498767         0  2.168021  1.714320    0.792712    0       0   \n",
       "5         -0.075195         0  1.385714  1.863955    1.582997    0       0   \n",
       "...             ...       ...       ...       ...         ...  ...     ...   \n",
       "1316      -0.862176         0 -0.068457  0.248590    0.397569    0       0   \n",
       "1317       1.498767         0  2.582183  3.002344    0.397569    0       0   \n",
       "1318      -1.255667         1 -0.805114 -0.804889   -1.380574    0       0   \n",
       "1319      -0.468686         1 -0.805114 -1.071449    0.397569    1       0   \n",
       "1320      -0.862176         1 -0.805114 -1.071449   -1.380574    1       0   \n",
       "\n",
       "           Nvidia  Hybrid  SSD  ...  Acer  AMD  Intel  MSI  No OS  Linux  \\\n",
       "laptop_ID                       ...                                        \n",
       "1               0       0    1  ...     0    0      1    0      0      0   \n",
       "2               0       0    0  ...     0    0      1    0      0      0   \n",
       "3               0       0    1  ...     0    0      1    0      1      0   \n",
       "4               0       0    1  ...     0    1      0    0      0      0   \n",
       "5               0       0    1  ...     0    0      1    0      0      0   \n",
       "...           ...     ...  ...  ...   ...  ...    ...  ...    ...    ...   \n",
       "1316            0       0    1  ...     0    0      1    0      0      0   \n",
       "1317            0       0    1  ...     0    0      1    0      0      0   \n",
       "1318            0       0    0  ...     0    0      1    0      0      0   \n",
       "1319            0       0    0  ...     0    1      0    0      0      0   \n",
       "1320            0       0    0  ...     0    0      1    0      0      0   \n",
       "\n",
       "           Total_Storage  Windows 7  Windows 10  Chrome OS  \n",
       "laptop_ID                                                   \n",
       "1              -1.026162          0           0          0  \n",
       "2              -1.026162          0           0          0  \n",
       "3              -0.759244          0           0          0  \n",
       "4              -0.225410          0           0          0  \n",
       "5              -0.759244          0           0          0  \n",
       "...                  ...        ...         ...        ...  \n",
       "1316           -1.026162          0           1          0  \n",
       "1317           -0.225410          0           1          0  \n",
       "1318           -1.159620          0           1          0  \n",
       "1319            0.842259          0           1          0  \n",
       "1320           -0.250433          0           1          0  \n",
       "\n",
       "[1303 rows x 25 columns]"
      ]
     },
     "execution_count": 73,
     "metadata": {},
     "output_type": "execute_result"
    }
   ],
   "source": [
    "X"
   ]
  },
  {
   "cell_type": "markdown",
   "id": "1d44dc13",
   "metadata": {},
   "source": [
    "Our inputs are scaled now. We can split the data to train and test sets. Due to a few data we have, we will split the train and test set as 85%-15%."
   ]
  },
  {
   "cell_type": "code",
   "execution_count": 74,
   "id": "fcebffe9",
   "metadata": {},
   "outputs": [],
   "source": [
    "from sklearn.model_selection import train_test_split\n",
    "X_train, X_test, y_train, y_test = train_test_split(X, y, test_size=0.15, random_state=30)"
   ]
  },
  {
   "cell_type": "markdown",
   "id": "9b6197b7",
   "metadata": {},
   "source": [
    "There are many catagories in our model. In these kind of situations, random forest works well because it is made of many decision trees. It can estimate the target value by votes of majority."
   ]
  },
  {
   "cell_type": "code",
   "execution_count": 75,
   "id": "a225e060",
   "metadata": {},
   "outputs": [
    {
     "data": {
      "text/plain": [
       "RandomForestRegressor()"
      ]
     },
     "execution_count": 75,
     "metadata": {},
     "output_type": "execute_result"
    }
   ],
   "source": [
    "from sklearn.ensemble import RandomForestRegressor\n",
    "# Fitting Random Forest Regression to the dataset\n",
    "random_forest = RandomForestRegressor()\n",
    " \n",
    "# Fit the regressor with x and y data\n",
    "random_forest.fit(X_train, y_train)"
   ]
  },
  {
   "cell_type": "code",
   "execution_count": 76,
   "id": "b6377540",
   "metadata": {},
   "outputs": [],
   "source": [
    "from sklearn.metrics import mean_squared_error, r2_score"
   ]
  },
  {
   "cell_type": "code",
   "execution_count": 77,
   "id": "875321b7",
   "metadata": {},
   "outputs": [
    {
     "name": "stdout",
     "output_type": "stream",
     "text": [
      "Mean Squared Error: 121391.26, R-squared: 0.80, Root Mean Squared Error: 348.41\n"
     ]
    }
   ],
   "source": [
    "# Making predictions on the testing set\n",
    "forest_predictions = random_forest.predict(X_test)\n",
    "\n",
    "# Evaluating the model on testing set\n",
    "mse = mean_squared_error(y_test, forest_predictions)\n",
    "rmse = mse**0.5\n",
    "r2 = r2_score(y_test, forest_predictions)\n",
    "\n",
    "print(f'Mean Squared Error: {mse:.2f}, R-squared: {r2:.2f}, Root Mean Squared Error: {rmse:.2f}')\n"
   ]
  },
  {
   "cell_type": "markdown",
   "id": "66058b13",
   "metadata": {},
   "source": [
    "Our model works well. In order to make sure that the model did not overfit, we should check for cross validation."
   ]
  },
  {
   "cell_type": "code",
   "execution_count": 78,
   "id": "69562107",
   "metadata": {},
   "outputs": [],
   "source": [
    "from sklearn.model_selection import cross_val_score\n",
    "\n",
    "scores = cross_val_score(random_forest, X, y, cv=5)  # 5-fold cross-validation"
   ]
  },
  {
   "cell_type": "code",
   "execution_count": 79,
   "id": "f2d3aebe",
   "metadata": {},
   "outputs": [
    {
     "name": "stdout",
     "output_type": "stream",
     "text": [
      "CV Scores: [0.81985148 0.81455062 0.81506524 0.74544757 0.72414901]\n",
      "Average CV Score: 0.78\n",
      "Standard Deviation of CV Scores: 0.04\n"
     ]
    }
   ],
   "source": [
    "print(f\"CV Scores: {scores:}\")\n",
    "print(f\"Average CV Score: {scores.mean():.2f}\")\n",
    "print(f\"Standard Deviation of CV Scores: {scores.std():.2f}\")"
   ]
  },
  {
   "cell_type": "markdown",
   "id": "5657f18e",
   "metadata": {},
   "source": [
    "Our avarage score is 0.78 and standard deviation is 0.04. It is not the best but still relatively good model to use. For further improvement, working with wider range of data would provide us more accurate and generalized model. Also, other ML models can be tried for comparison. Thank you for reading until here!"
   ]
  }
 ],
 "metadata": {
  "kernelspec": {
   "display_name": "Python 3 (ipykernel)",
   "language": "python",
   "name": "python3"
  },
  "language_info": {
   "codemirror_mode": {
    "name": "ipython",
    "version": 3
   },
   "file_extension": ".py",
   "mimetype": "text/x-python",
   "name": "python",
   "nbconvert_exporter": "python",
   "pygments_lexer": "ipython3",
   "version": "3.9.12"
  }
 },
 "nbformat": 4,
 "nbformat_minor": 5
}
